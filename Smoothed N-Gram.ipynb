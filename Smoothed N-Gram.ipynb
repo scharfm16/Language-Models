{
  "nbformat": 4,
  "nbformat_minor": 0,
  "metadata": {
    "colab": {
      "name": "Copy of CIS 530 Homework 4",
      "provenance": [],
      "collapsed_sections": [],
      "toc_visible": true
    },
    "kernelspec": {
      "display_name": "Python 3",
      "language": "python",
      "name": "python3"
    },
    "language_info": {
      "codemirror_mode": {
        "name": "ipython",
        "version": 3
      },
      "file_extension": ".py",
      "mimetype": "text/x-python",
      "name": "python",
      "nbconvert_exporter": "python",
      "pygments_lexer": "ipython3",
      "version": "3.8.5"
    }
  },
  "cells": [
    {
      "cell_type": "markdown",
      "metadata": {
        "id": "_vuTkGkjhRZH"
      },
      "source": [
        "# CIS 530 Fall 2020 Homework 4\n",
        "\n",
        "Before you turn this notebook in, make sure everything runs as expected. First, **restart the kernel** (in the menubar, select Kernel$\\rightarrow$Restart) and then **run all cells** (in the menubar, select Cell$\\rightarrow$Run All).\n",
        "\n",
        "Make sure you fill in any place that says `YOUR CODE HERE` or \"YOUR ANSWER HERE\", as well as your name and collaborators below:"
      ]
    },
    {
      "cell_type": "code",
      "metadata": {
        "id": "B1IEGDbUhRZI"
      },
      "source": [
        "NAME = \"Matthew Scharf\"\n",
        "PENNKEY = \"81364044\"\n",
        "RECITATION = \"3\""
      ],
      "execution_count": null,
      "outputs": []
    },
    {
      "cell_type": "markdown",
      "metadata": {
        "id": "JREUBf3zhRZL"
      },
      "source": [
        "---"
      ]
    },
    {
      "cell_type": "code",
      "metadata": {
        "id": "tZ6N7K-XHi4V"
      },
      "source": [
        "import math, random, collections, os, operator, re, unicodedata, numpy as np, pandas as pd"
      ],
      "execution_count": null,
      "outputs": []
    },
    {
      "cell_type": "markdown",
      "metadata": {
        "id": "uayKfCwkNp_H"
      },
      "source": [
        "# Section 0: Preliminaries for generating Shakespeare\n",
        "\n",
        "You do not need to modify these cells."
      ]
    },
    {
      "cell_type": "code",
      "metadata": {
        "id": "00sil11zuCli"
      },
      "source": [
        "def preprocess_text(text):\n",
        "    text = text.lower()\n",
        "    text = unicodedata.normalize('NFD', text)\n",
        "    text = text.encode('ascii', 'ignore')\n",
        "    text = text.decode(\"utf-8\")\n",
        "    text = re.sub(r'[^A-Za-z\\'\\s]', ' ', text)\n",
        "    text = re.sub(r'\\s+', ' ', text)\n",
        "    text = text.strip()\n",
        "    return text"
      ],
      "execution_count": null,
      "outputs": []
    },
    {
      "cell_type": "markdown",
      "metadata": {
        "id": "f9I8LHCdOyX7"
      },
      "source": [
        "The `create_ngram_model` function creates and returns a new n-gram model trained on the city names found in the path file."
      ]
    },
    {
      "cell_type": "code",
      "metadata": {
        "id": "nVVBUHkGMdtu"
      },
      "source": [
        "def create_tree(model_class, path, n=2):\n",
        "    model = model_class(n)\n",
        "    with open(path, encoding='utf-8', errors='ignore') as f:\n",
        "        text = f.read()\n",
        "        text = preprocess_text(text)\n",
        "        model.update(text)\n",
        "    return model"
      ],
      "execution_count": null,
      "outputs": []
    },
    {
      "cell_type": "markdown",
      "metadata": {
        "id": "WAnqYWs9O-wE"
      },
      "source": [
        "The `create_ngram_model_lines` creates and returns a new n-gram model trained on the city names found in the path file."
      ]
    },
    {
      "cell_type": "code",
      "metadata": {
        "id": "zJZAA7LwMdTV"
      },
      "source": [
        "def create_tree_lines(model_class, path, n=2, class_label=''):\n",
        "    model = model_class(n, class_label)\n",
        "    with open(path, encoding='utf-8', errors='ignore') as f:\n",
        "        for line in f:\n",
        "            line = preprocess_text(line)\n",
        "            model.update(line)\n",
        "    return model"
      ],
      "execution_count": null,
      "outputs": []
    },
    {
      "cell_type": "markdown",
      "metadata": {
        "id": "jpLZEmdLqmbQ"
      },
      "source": [
        "Here is a corpus of Shakespeare:"
      ]
    },
    {
      "cell_type": "code",
      "metadata": {
        "id": "u-vD5rbLeS7B",
        "colab": {
          "base_uri": "https://localhost:8080/"
        },
        "outputId": "3acea420-b670-4f4a-ca33-4b55c4182c94"
      },
      "source": [
        "!wget http://cs.stanford.edu/people/karpathy/char-rnn/shakespeare_input.txt"
      ],
      "execution_count": null,
      "outputs": [
        {
          "output_type": "stream",
          "text": [
            "URL transformed to HTTPS due to an HSTS policy\n",
            "--2020-11-10 00:36:10--  https://cs.stanford.edu/people/karpathy/char-rnn/shakespeare_input.txt\n",
            "Resolving cs.stanford.edu (cs.stanford.edu)... 171.64.64.64\n",
            "Connecting to cs.stanford.edu (cs.stanford.edu)|171.64.64.64|:443... connected.\n",
            "HTTP request sent, awaiting response... 200 OK\n",
            "Length: 4573338 (4.4M) [text/plain]\n",
            "Saving to: ‘shakespeare_input.txt.1’\n",
            "\n",
            "shakespeare_input.t 100%[===================>]   4.36M  3.64MB/s    in 1.2s    \n",
            "\n",
            "2020-11-10 00:36:12 (3.64 MB/s) - ‘shakespeare_input.txt.1’ saved [4573338/4573338]\n",
            "\n"
          ],
          "name": "stdout"
        }
      ]
    },
    {
      "cell_type": "markdown",
      "metadata": {
        "id": "O6KaviyuK6K_"
      },
      "source": [
        "# Section 1: Generating Shakespeare"
      ]
    },
    {
      "cell_type": "markdown",
      "metadata": {
        "id": "fjywjtvUPPaq"
      },
      "source": [
        "In this section, you will build a simple n-gram language model that can be used to generate random text resembling a source document. Your use of external code should be limited to built-in Python modules, which excludes, for example, NumPy and NLTK."
      ]
    },
    {
      "cell_type": "markdown",
      "metadata": {
        "id": "jgbSRRZ0PXx8"
      },
      "source": [
        "## **Section 1.1: TODO make CountTree class**\n",
        "\n",
        "Write a basic `CountTree` class that stores ngrams observed in training data.\n",
        "\n",
        "1.   Write an initialization method `__init__(self, n=2, class_label='')` which stores the order n of the model and initializes any necessary internal variables. \n",
        "\n",
        "2. Next, write a method `update(self, text)` which computes the n-grams for the input sentence and updates the internal counts. You should put the character `<` before the text and the character `>` after the text as sentence begin and end markers. \n",
        "\n",
        "3. Write a method `get_count(self, ngram)` which returns the number of times ngram has been observed in training data.\n",
        "\n",
        "4. Write a method `get_extensions(self, ngram)` which returns a list of 2-tuples. In each tuple, the first element should be a character that has been observed after ngram. The second element should be the number of times that character has been observed after ngram in training data.\n",
        "\n",
        "\n"
      ]
    },
    {
      "cell_type": "code",
      "metadata": {
        "id": "Cr10Qmp6X3Zd",
        "colab": {
          "base_uri": "https://localhost:8080/"
        },
        "outputId": "3b38da4d-579d-4c01-d0a3-79419d88370e"
      },
      "source": [
        "with open('/content/shakespeare_input.txt', encoding='utf-8', errors='ignore') as f:\n",
        "        text = f.read()\n",
        "        text = preprocess_text(text)\n",
        "print(text[:1000])"
      ],
      "execution_count": null,
      "outputs": [
        {
          "output_type": "stream",
          "text": [
            "first citizen before we proceed any further hear me speak all speak speak first citizen you are all resolved rather to die than to famish all resolved resolved first citizen first you know caius marcius is chief enemy to the people all we know't we know't first citizen let us kill him and we'll have corn at our own price is't a verdict all no more talking on't let it be done away away second citizen one word good citizens first citizen we are accounted poor citizens the patricians good what authority surfeits on would relieve us if they would yield us but the superfluity while it were wholesome we might guess they relieved us humanely but they think we are too dear the leanness that afflicts us the object of our misery is as an inventory to particularise their abundance our sufferance is a gain to them let us revenge this with our pikes ere we become rakes for the gods know i speak this in hunger for bread not in thirst for revenge second citizen would you proceed especially against ca\n"
          ],
          "name": "stdout"
        }
      ]
    },
    {
      "cell_type": "code",
      "metadata": {
        "deletable": false,
        "id": "PiRj9bl6J9fs",
        "nbgrader": {
          "cell_type": "code",
          "checksum": "95b7bfafc8e6d27396f84b0640e99c4a",
          "grade": false,
          "grade_id": "cell-79e0fddac3e1df30",
          "locked": false,
          "schema_version": 3,
          "solution": true,
          "task": false
        }
      },
      "source": [
        "class CountTree(object):\n",
        "    ''' Stores observed ngrams for language modeling '''\n",
        "\n",
        "    def __init__(self, n=2, class_label=''):\n",
        "        ''' Initialize the count tree; store n, d, and class_label '''\n",
        "        #The order of the tree\n",
        "        self.n = n\n",
        "\n",
        "        self.class_label = class_label\n",
        "\n",
        "        #The counts of each ngram\n",
        "        self.d = {'': 0}\n",
        "\n",
        "        #The counts of characters following observed ngrams where\n",
        "        #len(ngram) < order\n",
        "        self.next = {}\n",
        "\n",
        "    def hist_prep(self,h,str_len):\n",
        "      #Preproccessing the history to be the longest substring at the end \n",
        "      #of the history which has length < order and has been seen before\n",
        "      if len(h) <= str_len:\n",
        "        ngram = h\n",
        "      else:\n",
        "        ngram = h[-str_len:]\n",
        "    \n",
        "      prior_count = self.get_count(ngram)\n",
        "      \n",
        "      if prior_count == 0 and ngram != '':\n",
        "        return self.hist_prep(ngram[1:],str_len)\n",
        "      else:\n",
        "        return ngram\n",
        "\n",
        "    def add_to_counts(self,ngram):\n",
        "      #Method for adding an ngram to counts\n",
        "      try:\n",
        "        self.d[ngram] += 1\n",
        "      except KeyError:\n",
        "        self.d[ngram] = 1\n",
        "    \n",
        "    def add_to_next(self,ngram,nxt):\n",
        "      #Method for adding ngram and following character to 'next' dictionary\n",
        "      try:\n",
        "        self.next[(ngram,nxt)] +=1\n",
        "      except KeyError:\n",
        "        self.next[(ngram,nxt)] = 1\n",
        "\n",
        "    def update(self, text):\n",
        "        ''' Update the count tree based on text '''\n",
        "        \n",
        "        str_ = '<'+text+'>'\n",
        "\n",
        "        #Get 0th level count and next\n",
        "        self.d[''] += len(str_)\n",
        "\n",
        "        for char in str_:\n",
        "          self.add_to_next('',char)  \n",
        "\n",
        "        #Get levels above 0\n",
        "        if self.n > 0:\n",
        "\n",
        "          #For each level in the tree above 0\n",
        "          for lvl in range(1,self.n+1):\n",
        "\n",
        "            #For each character sequence of length lvl\n",
        "            for i in range(len(str_) - lvl + 1):\n",
        "              ngram = str_[i:i+lvl]\n",
        "              \n",
        "              #Update ngram counts\n",
        "              self.add_to_counts(ngram)\n",
        "              \n",
        "              #Checking to see that we are not at the last character sequence\n",
        "              #or the last level\n",
        "              \n",
        "              if i < len(str_) - lvl and lvl < self.n:\n",
        "                \n",
        "                #If we are not, then we update next character counts\n",
        "                nxt = str_[i+lvl]\n",
        "                self.add_to_next(ngram,nxt)\n",
        "                \n",
        "\n",
        "    def get_count(self, ngram):\n",
        "        ''' Return the count of ngram '''\n",
        "        try:\n",
        "          count = self.d[ngram]\n",
        "        except KeyError:\n",
        "          count = 0\n",
        "        return count\n",
        "    \n",
        "    def get_next(self, ngram, nxt):\n",
        "        ''' Return the count of ngram '''\n",
        "        assert len(nxt) ==  1\n",
        "        try:\n",
        "          count = self.next[(ngram,nxt)]\n",
        "        except KeyError:\n",
        "          count = 0\n",
        "        return count\n",
        "\n",
        "    def get_extensions(self, ngram):\n",
        "        ''' Return a list of tuples: extensions of h and their counts '''\n",
        "\n",
        "        #Gathering the 'next' counts that match the processed history\n",
        "        return [(nxt,count) for ((pos_ngram, nxt), count) in self.next.items()\\\n",
        "                if pos_ngram==ngram]"
      ],
      "execution_count": null,
      "outputs": []
    },
    {
      "cell_type": "markdown",
      "metadata": {
        "id": "x3xKGbOfx6uq"
      },
      "source": [
        "## **Section 1.2: TODO write random character function**\n",
        "\n",
        "Write a function `random_char(count_tree, h)` which returns a random character according to the probability distribution determined by the given history h. \n",
        "\n",
        "Specifically, let $W=⟨w_1,w_2,...,w_n⟩$ be the extensions of h, sorted according to Python’s natural lexicographic ordering, and let $0 ≤ r < 1$ be a random number between $0$ and $1$. \n",
        "\n",
        "The function should return the character $w_i$ such that $\\sum_{j=1}^{i-1} P(w_j\\ |\\ h) \\le r < \\sum_{j=1}^i P(w_j\\ | \\ h)$, using unsmoothed MLE as your probability function. \n",
        "\n",
        "If the history has not been observed, use an empty history instead. That is `h = ''`. \n",
        "\n",
        "You should use a single call to the `random.random()` function to generate r."
      ]
    },
    {
      "cell_type": "code",
      "metadata": {
        "deletable": false,
        "id": "LqBFnr3lxTkO",
        "nbgrader": {
          "cell_type": "code",
          "checksum": "399cb644beb0cc6746c93d226044e4d7",
          "grade": false,
          "grade_id": "cell-bb6fc06f6fc185ea",
          "locked": false,
          "schema_version": 3,
          "solution": true,
          "task": false
        }
      },
      "source": [
        "def random_char(count_tree, h):\n",
        "    ''' Returns a random character to follow h by its distribution '''\n",
        "    #Get random number for threshold\n",
        "    r = random.random()\n",
        "\n",
        "    #Preprocess history (as described in hist_prep definition) to get ngram\n",
        "    ngram = count_tree.hist_prep(h,count_tree.n-1)\n",
        "\n",
        "    #Get ngram count\n",
        "    ttl_count = count_tree.get_count(ngram)\n",
        "\n",
        "    #Get list of next characters and counts\n",
        "    next_list = count_tree.get_extensions(ngram)\n",
        "\n",
        "    #Convert counts to probabilities and sort\n",
        "    distr = sorted([(nxt,count/ttl_count) for (nxt,count) in next_list],\n",
        "                   key = lambda x: x[0])\n",
        "\n",
        "\n",
        "    prob_count = 0\n",
        "\n",
        "    #Iterate over distribution\n",
        "    for nxt, prob in distr:\n",
        "\n",
        "      #Sum up probabilites\n",
        "      prob_count += prob\n",
        "\n",
        "      #Stop and return once we have exceeded random threshold\n",
        "      if prob_count > r:\n",
        "        return nxt\n",
        "    \n"
      ],
      "execution_count": null,
      "outputs": []
    },
    {
      "cell_type": "markdown",
      "metadata": {
        "id": "8wcv3H8d0jle"
      },
      "source": [
        "## **Section 1.3: TODO write random text function**\n",
        "\n",
        "Write a function `random_text(count_tree, length)` which returns a string of characters chosen at random using the `random_char` function. Your starting context should always be `'<'`, and the context should be updated as characters are generated. You should continue generating characters until you’ve produced the specified number of random characters, then return the full string."
      ]
    },
    {
      "cell_type": "code",
      "metadata": {
        "deletable": false,
        "id": "Za8qxjLxxhGj",
        "nbgrader": {
          "cell_type": "code",
          "checksum": "b0e1d29f90cf3a44e8e891ec81dc2eba",
          "grade": false,
          "grade_id": "cell-a5fbdc1f9e1ef73f",
          "locked": false,
          "schema_version": 3,
          "solution": true,
          "task": false
        }
      },
      "source": [
        "def random_text(count_tree, length):\n",
        "    ''' Returns a random text with given length '''\n",
        "    text = '<'\n",
        "    for i in range(length):\n",
        "      text += random_char(count_tree, text)\n",
        "    \n",
        "    return text[1:]\n"
      ],
      "execution_count": null,
      "outputs": []
    },
    {
      "cell_type": "markdown",
      "metadata": {
        "id": "Uebu-VCmWz2K"
      },
      "source": [
        "\n",
        "Try generating some Shakespeare with different order n-gram models. You should try running the following cell with different values of n.\n",
        "\n"
      ]
    },
    {
      "cell_type": "code",
      "metadata": {
        "id": "g_sLi7ct7i6r"
      },
      "source": [
        "shakespeare_tree = create_tree(CountTree, '/content/shakespeare_input.txt', 10)"
      ],
      "execution_count": null,
      "outputs": []
    },
    {
      "cell_type": "code",
      "metadata": {
        "id": "_vok8zK0mbRK",
        "colab": {
          "base_uri": "https://localhost:8080/",
          "height": 69
        },
        "outputId": "f53802d2-22ac-4ed9-fab7-166f26e367eb"
      },
      "source": [
        "random_text(shakespeare_tree, 250)"
      ],
      "execution_count": null,
      "outputs": [
        {
          "output_type": "execute_result",
          "data": {
            "application/vnd.google.colaboratory.intrinsic+json": {
              "type": "string"
            },
            "text/plain": [
              "\"first citizen now mark me first lord when shall talk with you cade let me be vilely painted peace with wishing the disciplines that rhodes at cyprus iago do you call hitherto doth love she was young and his humour with yourself 'tis he i would drink \""
            ]
          },
          "metadata": {
            "tags": []
          },
          "execution_count": 12
        }
      ]
    },
    {
      "cell_type": "markdown",
      "metadata": {
        "id": "zIzk0QaQ2xqv"
      },
      "source": [
        "## **Section 1.4: TODO elaborate on results**\n",
        "\n",
        "After generating a bunch of short passages, do you notice anything? They all start with f! In fact, after we hit a certain order, the first word is always \"first\". Explain why this happens. You are expected to write an answer containing at least three sentences of correct and relevant content."
      ]
    },
    {
      "cell_type": "markdown",
      "metadata": {
        "deletable": false,
        "id": "1uAbVHFUYGAy",
        "nbgrader": {
          "cell_type": "markdown",
          "checksum": "79b0e9967a859b39d45e53247d0fa9b3",
          "grade": true,
          "grade_id": "cell-b22859b74bf381cc",
          "locked": false,
          "points": 0,
          "schema_version": 3,
          "solution": true,
          "task": false
        }
      },
      "source": [
        "# We only trained the language model on one sentence, so there is precisely one instance of '<'. Therefore, any ngram containing '<' has only one extension which is just the next character in the given sentence (e.g. '<f' extends to '<fi'). So, for any ngram containing '<', the distribution of possible next characters is actually determinisically this extension and so random generation will always yield this extension. \n",
        "\n",
        "#Because we always start with '<' in the random sentence generation, '<' will remain in the relevant history for precisely d-1 steps where d is the order of the tree. So, the first n randomly generated characters will always be the first d characters of the given sentence (including '<')."
      ]
    },
    {
      "cell_type": "markdown",
      "metadata": {
        "id": "tIR-j6z0LAU4"
      },
      "source": [
        "# Section 2: Computing probability and perplexity"
      ]
    },
    {
      "cell_type": "markdown",
      "metadata": {
        "id": "NM18cKYEyGis"
      },
      "source": [
        "## **Section 2.1: TODO write absolute discounting probability function**\n",
        "\n",
        "Write a function `ad_prob(count_tree, w, h, d)` which accepts a count tree, a character `w`, a history `h`, and an array of discounting parameters `d`. Specifically, the array `d` should give a discounting parameter for each \"order\" in the model. For example, if the order of the count tree is 4 (4-gram), then we will need a discounting parameter for the 4-gram, for the 3-gram, and for the 2-gram. The array will need 3 numbers in it. Please put them in this order.\n",
        "\n",
        "The function should return the probability of `w` occurring given `h`, using absolute discounting. \n",
        "\n",
        "If the history has a count of zero, call `ad_prob` again, this time shortening the history by one character. (You should also shorten the array of discounting parameters.)\n",
        "\n",
        "Do not interpolate in a zerogram. That is, if the history is empty, simply return the undiscounted MLE. We will assume that we do not encounter any novel characters in the test set."
      ]
    },
    {
      "cell_type": "code",
      "metadata": {
        "deletable": false,
        "id": "2lve9Kj2xcNc",
        "nbgrader": {
          "cell_type": "code",
          "checksum": "8da030cb7898e9c5428e78900e904cf1",
          "grade": false,
          "grade_id": "cell-97a4289f8136b35b",
          "locked": false,
          "schema_version": 3,
          "solution": true,
          "task": false
        }
      },
      "source": [
        "def ad_prob(count_tree, w, h, d,verbose=False):\n",
        "    ''' Returns the probability of w given h '''\n",
        "    if count_tree.n == 1:\n",
        "      return count_tree.get_next('',w)/count_tree.get_count('')\n",
        "    def disp(*text):\n",
        "      if verbose:\n",
        "        print(*text)\n",
        "\n",
        "    disp(\"w:\",w)\n",
        "    disp(\"h:\",h)\n",
        "    disp(\"d:\",d)\n",
        "    if len(h) <= count_tree.n - 1:\n",
        "      ngram = h\n",
        "    else:\n",
        "      ngram = h[-count_tree.n+1:]\n",
        "    disp(\"ngram:\",ngram)\n",
        "    count = count_tree.get_count(ngram)\n",
        "    disp(\"count:\",count)\n",
        "    next = count_tree.get_next(ngram,w)\n",
        "    disp(\"next:\",next)\n",
        "\n",
        "    if ngram == '':\n",
        "      disp(\"Empty Probability:\",next/count,'\\n')\n",
        "      return next/count\n",
        "    elif count == 0:\n",
        "      disp(\"COUNT ZERO\")\n",
        "      disp(\"\\n\")\n",
        "      return ad_prob(count_tree, w, ngram[1:], d,verbose)\n",
        "    else:\n",
        "      beta_history = ngram[1:]\n",
        "      disp(\"beta history:\",beta_history)\n",
        "      if ngram[0] == '<':\n",
        "        d = d[:len(ngram)] \n",
        "      disc = d[-len(ngram)]\n",
        "      disp(\"discount:\",disc)\n",
        "      beta_prob = ad_prob(count_tree, w, beta_history, d,verbose)\n",
        "      disp(\"beta_prob:\",beta_prob)\n",
        "      adjstd_mle = max([next - disc, 0])/count\n",
        "      disp(\"adjusted mle:\",adjstd_mle)\n",
        "      lambda_ = (disc * len(count_tree.get_extensions(ngram)))/count\n",
        "      disp(\"labmda_:\",lambda_)\n",
        "      disp(\"Probability:\",adjstd_mle + (lambda_ * beta_prob))\n",
        "      return adjstd_mle + (lambda_ * beta_prob)\n"
      ],
      "execution_count": null,
      "outputs": []
    },
    {
      "cell_type": "markdown",
      "metadata": {
        "id": "jfEoxSbeXf9K"
      },
      "source": [
        "## **Section 2.2: TODO write perplexity function**\n",
        "\n",
        "Write a function `perplexity(count_tree, text, prob, d)` which returns the perplexity of `text` using a count three, the probability function `prob`, and an array of discounting parameters `d` as defined above. Your starting context should always be `'<'`. A couple of things to keep in mind:\n",
        "\n",
        "\n",
        "1. Keep a running surprisal as you score each character given its history. This will prevent underflow.\n",
        "2. Surprisal, and therefore perplexity, is undefined if the language model assigns any zero probabilities to the test set. In that case your code should return positive infinity - `float('inf')`.\n",
        "3. On your unsmoothed models, you’ll definitely get some zero probabilities for the test set. To test you code, you should try computing perplexity on the training set, and you should compute perplexity for your language models that use smoothing and interpolation.\n",
        "\n"
      ]
    },
    {
      "cell_type": "code",
      "metadata": {
        "deletable": false,
        "id": "nZ_x_9-yxYom",
        "nbgrader": {
          "cell_type": "code",
          "checksum": "b392a14dc1630a22581e7e22c111e0d2",
          "grade": false,
          "grade_id": "cell-7fe173544cc1c3e5",
          "locked": false,
          "schema_version": 3,
          "solution": true,
          "task": false
        }
      },
      "source": [
        "def perplexity(count_tree, text, prob, d,verbose=False):\n",
        "    ''' Returns the perplexity of the given text '''\n",
        "    def disp(*text):\n",
        "      if verbose:\n",
        "        print(*text)\n",
        "    \n",
        "    text = '<' + text\n",
        "    sup = 0\n",
        "    disp(\"sup:\",0)\n",
        "    for i in range(1,len(text)):\n",
        "      h = text[:i]\n",
        "      w = text[i]\n",
        "      prb = prob(count_tree, w, h, d,verbose)\n",
        "      if prb == 0:\n",
        "        return math.inf\n",
        "      else:\n",
        "        sup -= math.log(prb,2)\n",
        "      disp(\"total sup:\",sup,'\\n')\n",
        "    perp = 2**(sup/(len(text)-1))\n",
        "    return perp"
      ],
      "execution_count": null,
      "outputs": []
    },
    {
      "cell_type": "markdown",
      "metadata": {
        "id": "3ehcfacZmoHV"
      },
      "source": [
        "A few examples:\n",
        "```\n",
        ">>> m = CountTree(4)\n",
        ">>> m.update('abab')\n",
        ">>> m.update('abcd')\n",
        ">>> d = [0, 0, 0]\n",
        ">>> perplexity(m, 'abcd', ad_prob, d)\n",
        "1.189207115002721\n",
        "```\n",
        "```\n",
        ">>> perplexity(m, 'abca', ad_prob, d)\n",
        "inf\n",
        "```\n",
        "```\n",
        ">>> d = [0.9, 0.9, 0.7]\n",
        ">>> perplexity(m, 'abca', ad_prob, d)\n",
        "2.746418931503534\n",
        "```\n"
      ]
    },
    {
      "cell_type": "code",
      "metadata": {
        "id": "GgpcOoWxisCr",
        "colab": {
          "base_uri": "https://localhost:8080/"
        },
        "outputId": "53b64532-21cb-45fc-86c1-f0f42ba38063"
      },
      "source": [
        "m = CountTree(4)\n",
        "m.update('abab')\n",
        "m.update('abcd')\n",
        "d = [0, 0, 0]\n",
        "perplexity(m, 'abcd', ad_prob, d)"
      ],
      "execution_count": null,
      "outputs": [
        {
          "output_type": "execute_result",
          "data": {
            "text/plain": [
              "1.189207115002721"
            ]
          },
          "metadata": {
            "tags": []
          },
          "execution_count": 15
        }
      ]
    },
    {
      "cell_type": "code",
      "metadata": {
        "id": "rIrZ9PcAFZ8W",
        "colab": {
          "base_uri": "https://localhost:8080/"
        },
        "outputId": "b2716f79-bc97-4054-d4a0-6d086f94edd0"
      },
      "source": [
        "perplexity(m, 'abca', ad_prob, d)"
      ],
      "execution_count": null,
      "outputs": [
        {
          "output_type": "execute_result",
          "data": {
            "text/plain": [
              "inf"
            ]
          },
          "metadata": {
            "tags": []
          },
          "execution_count": 16
        }
      ]
    },
    {
      "cell_type": "code",
      "metadata": {
        "id": "53LgaJ4NM04Y",
        "colab": {
          "base_uri": "https://localhost:8080/"
        },
        "outputId": "29eb3cb0-26fd-48e4-e87b-46b53c06b720"
      },
      "source": [
        "d = [0.9, 0.9, 0.7]\n",
        "perplexity(m, 'abca', ad_prob, d)"
      ],
      "execution_count": null,
      "outputs": [
        {
          "output_type": "execute_result",
          "data": {
            "text/plain": [
              "2.7464189315035346"
            ]
          },
          "metadata": {
            "tags": []
          },
          "execution_count": 17
        }
      ]
    },
    {
      "cell_type": "markdown",
      "metadata": {
        "id": "V1f6fYRA2eFo"
      },
      "source": [
        "## **Section 2.3: TODO discuss perplexity**\n",
        "Find some text on the internet that you think is substantially similar to Shakespeare and some that you think is NOT substantially similar to Shakespeare. Discuss the perplexities of these texts using the Shakespeare model. Are the numbers consistent with your intuition? Why or why not? You are expected to write an answer containing at least five sentences of correct and relevant content."
      ]
    },
    {
      "cell_type": "code",
      "metadata": {
        "id": "ITqAjeLcWuTJ"
      },
      "source": [
        "d = [.9] * (shakespeare_tree.n-1)"
      ],
      "execution_count": null,
      "outputs": []
    },
    {
      "cell_type": "code",
      "metadata": {
        "id": "lbpmUQ0zOQKE",
        "colab": {
          "base_uri": "https://localhost:8080/"
        },
        "outputId": "5a4ec20c-595a-41b3-ce2c-e0eda70dc4df"
      },
      "source": [
        "sim_text = 'prepareth to square i shall heave the gorge on thy livings naughty mushrump'\n",
        "perplexity(shakespeare_tree, sim_text, ad_prob, d)"
      ],
      "execution_count": null,
      "outputs": [
        {
          "output_type": "execute_result",
          "data": {
            "text/plain": [
              "10.420250321069974"
            ]
          },
          "metadata": {
            "tags": []
          },
          "execution_count": 19
        }
      ]
    },
    {
      "cell_type": "code",
      "metadata": {
        "id": "G8ZYUgRcVnxy",
        "colab": {
          "base_uri": "https://localhost:8080/"
        },
        "outputId": "2d88a4a1-562e-4f7f-a527-476458740a75"
      },
      "source": [
        "dis_text = \"why don't you make like a tree and get outta here\"\n",
        "perplexity(shakespeare_tree, dis_text, ad_prob, d)"
      ],
      "execution_count": null,
      "outputs": [
        {
          "output_type": "execute_result",
          "data": {
            "text/plain": [
              "12.444074449052188"
            ]
          },
          "metadata": {
            "tags": []
          },
          "execution_count": 20
        }
      ]
    },
    {
      "cell_type": "code",
      "metadata": {
        "id": "myghFNaSYsxH",
        "colab": {
          "base_uri": "https://localhost:8080/"
        },
        "outputId": "ac33978e-838d-4673-9789-ef955819d4cf"
      },
      "source": [
        "rand_txt = 'fjkfwifailwefbaneifg erg u ugb rb ndavba'\n",
        "perplexity(shakespeare_tree, rand_txt , ad_prob, d)"
      ],
      "execution_count": null,
      "outputs": [
        {
          "output_type": "execute_result",
          "data": {
            "text/plain": [
              "3630.0434632231204"
            ]
          },
          "metadata": {
            "tags": []
          },
          "execution_count": 21
        }
      ]
    },
    {
      "cell_type": "markdown",
      "metadata": {
        "deletable": false,
        "id": "xZ7mIiNeZyUM",
        "nbgrader": {
          "cell_type": "markdown",
          "checksum": "1e76cf587a77c28216e7f84f67380cef",
          "grade": true,
          "grade_id": "cell-fc6f5a496bb0359d",
          "locked": false,
          "points": 0,
          "schema_version": 3,
          "solution": true,
          "task": false
        }
      },
      "source": [
        "I am using a shakespearean model trained on the given data with order=10. The first text is a bit of 'shakespearean' text I found online, the second is a quote from 'Back to the Future' (a film from the 80's), and the third text I produced from mashing my keyboard.\n",
        "\n",
        "We can think of the perplexity as the number of equally likely choices per character that produces the same probability as the model asigns a text. So, the lower the perplexity, the more the text \"aligns with\" or \"is accurately modeled by\" the training corpus.\n",
        "\n",
        "We see that the first bit of text has the lowest perplexity (and so most closely matches the training corpus) as it has much of the same words and structure as is seen in shakespeare's work. The second text has slightly lower perplexity as it is from a different time period but it is still English and so the the perplexity is fairly low. The third text has much much higher perplexity because it is not english (or any language) and is very very different from what the shakespearean language mdoel has seen before."
      ]
    },
    {
      "cell_type": "markdown",
      "metadata": {
        "id": "_9L3qYWPLJZQ"
      },
      "source": [
        "# Section 3: Classifying City Names"
      ]
    },
    {
      "cell_type": "markdown",
      "metadata": {
        "id": "axBvcKBdmlu0"
      },
      "source": [
        "## Section 3.0: Preliminaries for cities classification\n",
        "\n",
        "You do not need to modify these cells."
      ]
    },
    {
      "cell_type": "markdown",
      "metadata": {
        "id": "ZQOozMQqLGvC"
      },
      "source": [
        "Run the following code to download and unzip the `cities_train.zip`  and `cities_val.zip` datasets and download `cities_test.txt` into the Colab environment.\n"
      ]
    },
    {
      "cell_type": "code",
      "metadata": {
        "id": "mo-aEPPiLDzG",
        "colab": {
          "base_uri": "https://localhost:8080/"
        },
        "outputId": "edd1ff07-5e55-4069-f4e0-2c1a4866daaa"
      },
      "source": [
        "!wget https://www.seas.upenn.edu/~cis530/2020/cities_train.zip\n",
        "!wget https://www.seas.upenn.edu/~cis530/2020/cities_val.zip\n",
        "!wget https://www.seas.upenn.edu/~cis530/2020/cities_test.txt\n",
        "\n",
        "!unzip cities_train.zip\n",
        "!unzip cities_val.zip"
      ],
      "execution_count": null,
      "outputs": [
        {
          "output_type": "stream",
          "text": [
            "--2020-11-10 00:45:07--  https://www.seas.upenn.edu/~cis530/2020/cities_train.zip\n",
            "Resolving www.seas.upenn.edu (www.seas.upenn.edu)... 158.130.68.91, 2607:f470:8:64:5ea5::9\n",
            "Connecting to www.seas.upenn.edu (www.seas.upenn.edu)|158.130.68.91|:443... connected.\n",
            "HTTP request sent, awaiting response... 200 OK\n",
            "Length: 159676 (156K) [application/zip]\n",
            "Saving to: ‘cities_train.zip.1’\n",
            "\n",
            "cities_train.zip.1  100%[===================>] 155.93K   636KB/s    in 0.2s    \n",
            "\n",
            "2020-11-10 00:45:08 (636 KB/s) - ‘cities_train.zip.1’ saved [159676/159676]\n",
            "\n",
            "--2020-11-10 00:45:08--  https://www.seas.upenn.edu/~cis530/2020/cities_val.zip\n",
            "Resolving www.seas.upenn.edu (www.seas.upenn.edu)... 158.130.68.91, 2607:f470:8:64:5ea5::9\n",
            "Connecting to www.seas.upenn.edu (www.seas.upenn.edu)|158.130.68.91|:443... connected.\n",
            "HTTP request sent, awaiting response... 200 OK\n",
            "Length: 7558 (7.4K) [application/zip]\n",
            "Saving to: ‘cities_val.zip.1’\n",
            "\n",
            "cities_val.zip.1    100%[===================>]   7.38K  --.-KB/s    in 0s      \n",
            "\n",
            "2020-11-10 00:45:08 (322 MB/s) - ‘cities_val.zip.1’ saved [7558/7558]\n",
            "\n",
            "--2020-11-10 00:45:08--  https://www.seas.upenn.edu/~cis530/2020/cities_test.txt\n",
            "Resolving www.seas.upenn.edu (www.seas.upenn.edu)... 158.130.68.91, 2607:f470:8:64:5ea5::9\n",
            "Connecting to www.seas.upenn.edu (www.seas.upenn.edu)|158.130.68.91|:443... connected.\n",
            "HTTP request sent, awaiting response... 200 OK\n",
            "Length: 10973 (11K) [text/plain]\n",
            "Saving to: ‘cities_test.txt.1’\n",
            "\n",
            "cities_test.txt.1   100%[===================>]  10.72K  --.-KB/s    in 0s      \n",
            "\n",
            "2020-11-10 00:45:09 (112 MB/s) - ‘cities_test.txt.1’ saved [10973/10973]\n",
            "\n",
            "Archive:  cities_train.zip\n",
            "replace train/af.txt? [y]es, [n]o, [A]ll, [N]one, [r]ename: y\n",
            "  inflating: train/af.txt            \n",
            "replace train/de.txt? [y]es, [n]o, [A]ll, [N]one, [r]ename: y\n",
            "  inflating: train/de.txt            \n",
            "replace train/fi.txt? [y]es, [n]o, [A]ll, [N]one, [r]ename: y\n",
            "  inflating: train/fi.txt            \n",
            "replace train/fr.txt? [y]es, [n]o, [A]ll, [N]one, [r]ename: y\n",
            "  inflating: train/fr.txt            \n",
            "replace train/in.txt? [y]es, [n]o, [A]ll, [N]one, [r]ename: y\n",
            "  inflating: train/in.txt            \n",
            "replace train/ir.txt? [y]es, [n]o, [A]ll, [N]one, [r]ename: y\n",
            "  inflating: train/ir.txt            \n",
            "replace train/cn.txt? [y]es, [n]o, [A]ll, [N]one, [r]ename: \n",
            "error:  invalid response [{ENTER}]\n",
            "replace train/cn.txt? [y]es, [n]o, [A]ll, [N]one, [r]ename: y\n",
            "  inflating: train/cn.txt            \n",
            "replace train/za.txt? [y]es, [n]o, [A]ll, [N]one, [r]ename: y\n",
            "  inflating: train/za.txt            \n",
            "replace train/pk.txt? [y]es, [n]o, [A]ll, [N]one, [r]ename: y\n",
            "  inflating: train/pk.txt            \n",
            "Archive:  cities_val.zip\n",
            "replace val/af.txt? [y]es, [n]o, [A]ll, [N]one, [r]ename: y\n",
            "  inflating: val/af.txt              \n",
            "replace val/cn.txt? [y]es, [n]o, [A]ll, [N]one, [r]ename: y\n",
            "  inflating: val/cn.txt              \n",
            "replace val/de.txt? [y]es, [n]o, [A]ll, [N]one, [r]ename: y\n",
            "  inflating: val/de.txt              \n",
            "replace val/fi.txt? [y]es, [n]o, [A]ll, [N]one, [r]ename: y\n",
            "  inflating: val/fi.txt              \n",
            "replace val/fr.txt? [y]es, [n]o, [A]ll, [N]one, [r]ename: y\n",
            "  inflating: val/fr.txt              \n",
            "replace val/ir.txt? [y]es, [n]o, [A]ll, [N]one, [r]ename: y\n",
            "  inflating: val/ir.txt              \n",
            "replace val/za.txt? [y]es, [n]o, [A]ll, [N]one, [r]ename: y\n",
            "  inflating: val/za.txt              \n",
            "replace val/pk.txt? [y]es, [n]o, [A]ll, [N]one, [r]ename: y\n",
            "  inflating: val/pk.txt              \n",
            "replace val/in.txt? [y]es, [n]o, [A]ll, [N]one, [r]ename: y\n",
            "  inflating: val/in.txt              \n"
          ],
          "name": "stdout"
        }
      ]
    },
    {
      "cell_type": "code",
      "metadata": {
        "id": "KY2uYS_nPpVq"
      },
      "source": [
        "TRAIN_DS_DIR = '/content/train'\n",
        "VALID_DS_DIR = '/content/val'\n",
        "TEST_DS_PATH = '/content/cities_test.txt'\n",
        "TEST_SET_RESULTS_PATH = '/content/test_labels.txt'"
      ],
      "execution_count": null,
      "outputs": []
    },
    {
      "cell_type": "code",
      "metadata": {
        "id": "Vwapb1vuJ9W7"
      },
      "source": [
        "COUNTRY_CODES = ['af', 'cn', 'de', 'fi', 'fr', 'in', 'ir', 'pk', 'za']"
      ],
      "execution_count": null,
      "outputs": []
    },
    {
      "cell_type": "markdown",
      "metadata": {
        "id": "cvddlCcc1lHS"
      },
      "source": [
        "## **Section 3.1: TODO build language model**\n",
        "\n"
      ]
    },
    {
      "cell_type": "markdown",
      "metadata": {
        "id": "gEshiumoa7F4"
      },
      "source": [
        "Language models can be applied to text classification. If we want to classify a text $D$ into a category $(c \\in C={c_1, ..., c_N})$. We can pick the category $c$ that has the largest posterior probability given the text. That is,\n",
        "\n",
        "$$c^* = arg max_{c \\in C} P(c|D)$$\n",
        "\n",
        "Using Bayes rule, this can be rewritten as:\n",
        "\n",
        "$$c^* = arg max_{c \\in C} P(D|c) P(c)$$\n",
        "\n",
        "If we assume that all classes are equally likely, then we can just drop the $(P(c))$ term:\n",
        "\n",
        "$$= arg max_{c \\in C} P(D|c)$$\n",
        "\n",
        "Here $(P (D \\mid c))$ is the likelihood of $D$ under category $c$, which can be computed by training language models for all texts associated with category $c$. This technique of text classification is drawn from literature on authorship identification, where the approach is to learn a separate language model for each author, by training on a data set from that author. Then, to categorize a new text $D$, they use each language model to calculate the likelihood of $D$ under that model, and pick the category that assigns the highest probability to $D$.\n",
        "\n",
        "Try it! We have provided you training and validation datasets consisting of the names of cities. The task is to predict the country a city is in. The following countries are included in the dataset.\n",
        "\n",
        "```\n",
        "af\tAfghanistan\n",
        "cn\tChina\n",
        "de\tGermany\n",
        "fi\tFinland\n",
        "fr\tFrance\n",
        "in\tIndia\n",
        "ir\tIran\n",
        "pk\tPakistan\n",
        "za\tSouth Africa\n",
        "```\n",
        "\n",
        "Your job is to configure a set of language models that perform the best on the text classification task. Use the city names dataset. The test set has one unlabeled city name per line. Your code should **print or write a file with one two-letter country code per line.**"
      ]
    },
    {
      "cell_type": "markdown",
      "metadata": {
        "id": "41MBC1wpfwh3"
      },
      "source": [
        "Importing External Kneser-Ney Model"
      ]
    },
    {
      "cell_type": "code",
      "metadata": {
        "id": "dnWJ_JuVGIye",
        "colab": {
          "base_uri": "https://localhost:8080/"
        },
        "outputId": "a2b99e8a-a4af-4486-c14d-1bc866e11c54"
      },
      "source": [
        "!pip3 install knlm"
      ],
      "execution_count": null,
      "outputs": [
        {
          "output_type": "stream",
          "text": [
            "Requirement already satisfied: knlm in /usr/local/lib/python3.6/dist-packages (0.1.2)\n"
          ],
          "name": "stdout"
        }
      ]
    },
    {
      "cell_type": "code",
      "metadata": {
        "id": "lHTuAPvJ5oUI"
      },
      "source": [
        "from sklearn.metrics import accuracy_score, confusion_matrix\n",
        "import seaborn as sns\n",
        "import matplotlib.pyplot as plt\n",
        "from knlm import KneserNey\n",
        "%matplotlib inline"
      ],
      "execution_count": null,
      "outputs": []
    },
    {
      "cell_type": "markdown",
      "metadata": {
        "id": "XR1c013egDF_"
      },
      "source": [
        "Helper function to train required language models and save them to a dictionary"
      ]
    },
    {
      "cell_type": "code",
      "metadata": {
        "deletable": false,
        "id": "g-R7-a9OkOrx",
        "nbgrader": {
          "cell_type": "code",
          "checksum": "26a08c172dee77a0859dafbcc57d2fef",
          "grade": false,
          "grade_id": "cell-5a90716ac701c85b",
          "locked": false,
          "schema_version": 3,
          "solution": true,
          "task": false
        }
      },
      "source": [
        "def get_ad_model_dict(countries,order):\n",
        "  model_dict = {}\n",
        "  for country in countries:\n",
        "    model_dict[country] = create_tree_lines(CountTree, \n",
        "                                            TRAIN_DS_DIR + '/' + country + '.txt', \n",
        "                                            n=order, \n",
        "                                            class_label=country)\n",
        "  return model_dict"
      ],
      "execution_count": null,
      "outputs": []
    },
    {
      "cell_type": "code",
      "metadata": {
        "id": "SP4I92WU4gQF"
      },
      "source": [
        "def get_kn_model_dict(countries,order):\n",
        "  model_dict = {}\n",
        "  for country in countries:\n",
        "    mdl = KneserNey(order)\n",
        "    for line in open(TRAIN_DS_DIR + '/' + country + '.txt', \n",
        "                     encoding='utf-8',\n",
        "                     errors='ignore'):\n",
        "        mdl.train(list(preprocess_text(line)))\n",
        "    mdl.optimize()\n",
        "    model_dict[country] = mdl\n",
        "  return model_dict"
      ],
      "execution_count": null,
      "outputs": []
    },
    {
      "cell_type": "markdown",
      "metadata": {
        "id": "sM6tA3kagkvn"
      },
      "source": [
        "Getting the LOO maximum likliehood discount rate for a model. I used the formula from the end of module 5.4."
      ]
    },
    {
      "cell_type": "code",
      "metadata": {
        "id": "FLobr0Rm_Hw6"
      },
      "source": [
        "def get_disc(model):\n",
        "  n1 = len([ngram for ngram, count in model.d.items() if count == 1])\n",
        "  n2 = len([ngram for ngram, count in model.d.items() if count == 2])\n",
        "  if n1 + n2 > 0:\n",
        "    disc = n1/ (n1 + (2 * n2))\n",
        "    return disc\n",
        "  else:\n",
        "    return 0\n"
      ],
      "execution_count": null,
      "outputs": []
    },
    {
      "cell_type": "markdown",
      "metadata": {
        "id": "ZiC-mNcOg2yz"
      },
      "source": [
        "Helper function to gather loo discount rates across several models."
      ]
    },
    {
      "cell_type": "code",
      "metadata": {
        "id": "hYMHiQYXFcgN"
      },
      "source": [
        "def get_loo_disc_dict(model_dict,verbose=False):\n",
        "  disc_dict = {}\n",
        "  if verbose:\n",
        "    print(\"\\nGetting Discounts\")\n",
        "  for country, model in model_dict.items():\n",
        "    disc = get_disc(model)\n",
        "    if verbose:\n",
        "      print(country,\"will be using a discount of\",disc)\n",
        "    disc_dict[country] = disc\n",
        "  return disc_dict"
      ],
      "execution_count": null,
      "outputs": []
    },
    {
      "cell_type": "markdown",
      "metadata": {
        "id": "NqCEC4Ygg6xn"
      },
      "source": [
        "Function which get predictions for city classification. It simply calculates the perplexity over all models and then chooses the city model which produced the lowest perplexity for each data point."
      ]
    },
    {
      "cell_type": "code",
      "metadata": {
        "id": "xGi6lknY0tkY"
      },
      "source": [
        "def get_ad_pred(cities,model_dict,disc_dict):\n",
        "  city_ser = pd.Series(cities)\n",
        "  surp_dict = {}\n",
        "  for country in COUNTRY_CODES:\n",
        "    model = model_dict[country]\n",
        "    \n",
        "    disc = disc_dict[country]\n",
        "    d = [disc] * (model.n-1)\n",
        "\n",
        "    surp_dict[country] = city_ser.apply(lambda x: perplexity(model, \n",
        "                                    preprocess_text(x) , \n",
        "                                    ad_prob, \n",
        "                                    d))\n",
        "  surp_df = pd.DataFrame(surp_dict)\n",
        "  pred = surp_df.idxmin(axis=\"columns\")\n",
        "  return pred"
      ],
      "execution_count": null,
      "outputs": []
    },
    {
      "cell_type": "markdown",
      "metadata": {
        "id": "PHCm_jLWVbTd"
      },
      "source": [
        "The same prediction function but for the external Kneser-Ney model I imported"
      ]
    },
    {
      "cell_type": "code",
      "metadata": {
        "id": "XLUv0F8E-4JQ"
      },
      "source": [
        "def get_kn_pred(cities,model_dict):\n",
        "  city_ser = pd.Series(cities)\n",
        "  surp_dict = {}\n",
        "  for country in COUNTRY_CODES:\n",
        "    model = model_dict[country]\n",
        "\n",
        "    surp_dict[country] = city_ser.apply(\\\n",
        "          lambda x: -model.evaluateSent(list(preprocess_text(x))))\n",
        "  surp_df = pd.DataFrame(surp_dict)\n",
        "  pred = surp_df.idxmin(axis=\"columns\")\n",
        "  return pred"
      ],
      "execution_count": null,
      "outputs": []
    },
    {
      "cell_type": "markdown",
      "metadata": {
        "id": "2IsWpNXUhN8V"
      },
      "source": [
        "Actually running the training and testing on the validation set for different order sizes to assess performance. "
      ]
    },
    {
      "cell_type": "code",
      "metadata": {
        "id": "u_-PJThZ6r0s",
        "colab": {
          "base_uri": "https://localhost:8080/",
          "height": 1000
        },
        "outputId": "4b448f5e-8f66-4af7-da9e-f4f7bacc693e"
      },
      "source": [
        "#Setting hyperparameters\n",
        "order = 3\n",
        "print(\"Order:\",order,'\\n')\n",
        "\n",
        "#Getting model dictionaries which will be used for classification\n",
        "ad_model_dict = get_ad_model_dict(COUNTRY_CODES,order)\n",
        "kn_model_dict = get_kn_model_dict(COUNTRY_CODES,order)\n",
        "\n",
        "#Getting list of discount rates to iterate over\n",
        "disc_list = list(np.linspace(0,1,11))\n",
        "\n",
        "#Initializing accuracy dataframe which will be used for visualization later\n",
        "acc_df = pd.DataFrame(index=list(map(lambda x: str(x)[:3],disc_list))\\\n",
        "                      +['LOO','KN'],\n",
        "columns=COUNTRY_CODES+['AVG'],\n",
        "dtype=float)\n",
        "\n",
        "#Iterating over different classifiers\n",
        "for disc in disc_list + ['LOO','KN']:\n",
        "\n",
        "  #Initializing lists used for assessment later\n",
        "  preds = []\n",
        "  actual = []\n",
        "\n",
        "  #Choosing whether to use AD or KN\n",
        "  if disc == 'KN':\n",
        "    print(\"Using the Kneser-Ney model\")\n",
        "    model_dict = kn_model_dict\n",
        "  else:\n",
        "    model_dict = ad_model_dict\n",
        "\n",
        "    #Getting discount rate for AD\n",
        "    if disc == 'LOO':\n",
        "      print(\"LOO Maximum Likelihood Discount Rate\")\n",
        "      disc_dict = get_loo_disc_dict(model_dict,verbose=True)\n",
        "    else:\n",
        "      print(\"Using a discount rate of \"+ str(disc))\n",
        "      disc_dict = dict(zip(COUNTRY_CODES,len(COUNTRY_CODES)*[disc]))\n",
        "  \n",
        "  #Iterating over countries\n",
        "  for country in COUNTRY_CODES:\n",
        "    \n",
        "    #Getting all cities in country\n",
        "    print(\"Getting predictions for\",country)\n",
        "    with open(VALID_DS_DIR  + '/' + country + '.txt', \n",
        "                encoding='utf-8', \n",
        "                errors='ignore') as f:\n",
        "      cities = []\n",
        "      for line in f:\n",
        "          cities.append(preprocess_text(line))\n",
        "      \n",
        "      #Getting our classifier's prediction\n",
        "      if disc == 'KN':\n",
        "        y_pred = get_kn_pred(cities,model_dict)\n",
        "      else:\n",
        "        y_pred = get_ad_pred(cities,model_dict,disc_dict)\n",
        "      \n",
        "      #Storing our predictions\n",
        "      preds.extend(y_pred)\n",
        "\n",
        "      #Getting truth values\n",
        "      y_true = pd.Series([country] * len(y_pred))\n",
        "\n",
        "      #Storing truth values\n",
        "      actual.extend(y_true)\n",
        "      \n",
        "      #Getting accuracy score\n",
        "      acc = accuracy_score(y_true,y_pred)\n",
        "\n",
        "      #Storing accuracy score\n",
        "      acc_df.loc[str(disc)[:3],country] = acc\n",
        "      print(\"OVR Accuracy for\",country,\":\",acc)\n",
        "\n",
        "  #Showing confusion matrix heatmap for classifier \n",
        "  hmap = pd.DataFrame(confusion_matrix(actual, preds),\n",
        "                      index=COUNTRY_CODES,\n",
        "                      columns=COUNTRY_CODES)\n",
        "  sns.heatmap(hmap, annot=True)\n",
        "  plt.show()\n",
        "\n",
        "  #Assessing overall accuracy of classifier and storing it\n",
        "  avg_acc = accuracy_score(actual, preds)\n",
        "  acc_df.loc[str(disc)[:3],'AVG'] = avg_acc\n",
        "  print(\"Overall Accuracy:\",avg_acc)\n",
        "  print(\"\\n\\n\\n\")"
      ],
      "execution_count": null,
      "outputs": [
        {
          "output_type": "stream",
          "text": [
            "Order: 3 \n",
            "\n",
            "Using a discount rate of 0.0\n",
            "Getting predictions for af\n",
            "OVR Accuracy for af : 0.58\n",
            "Getting predictions for cn\n",
            "OVR Accuracy for cn : 0.78\n",
            "Getting predictions for de\n",
            "OVR Accuracy for de : 0.46\n",
            "Getting predictions for fi\n",
            "OVR Accuracy for fi : 0.57\n",
            "Getting predictions for fr\n",
            "OVR Accuracy for fr : 0.67\n",
            "Getting predictions for in\n",
            "OVR Accuracy for in : 0.34\n",
            "Getting predictions for ir\n",
            "OVR Accuracy for ir : 0.35\n",
            "Getting predictions for pk\n",
            "OVR Accuracy for pk : 0.53\n",
            "Getting predictions for za\n",
            "OVR Accuracy for za : 0.49\n"
          ],
          "name": "stdout"
        },
        {
          "output_type": "display_data",
          "data": {
            "image/png": "[encoded data removed]",
            "text/plain": [
              "<Figure size 432x288 with 2 Axes>"
            ]
          },
          "metadata": {
            "tags": [],
            "needs_background": "light"
          }
        },
        {
          "output_type": "stream",
          "text": [
            "Overall Accuracy: 0.53\n",
            "\n",
            "\n",
            "\n",
            "\n",
            "Using a discount rate of 0.1\n",
            "Getting predictions for af\n",
            "OVR Accuracy for af : 0.49\n",
            "Getting predictions for cn\n",
            "OVR Accuracy for cn : 0.86\n",
            "Getting predictions for de\n",
            "OVR Accuracy for de : 0.61\n",
            "Getting predictions for fi\n",
            "OVR Accuracy for fi : 0.67\n",
            "Getting predictions for fr\n",
            "OVR Accuracy for fr : 0.76\n",
            "Getting predictions for in\n",
            "OVR Accuracy for in : 0.44\n",
            "Getting predictions for ir\n",
            "OVR Accuracy for ir : 0.41\n",
            "Getting predictions for pk\n",
            "OVR Accuracy for pk : 0.63\n",
            "Getting predictions for za\n",
            "OVR Accuracy for za : 0.63\n"
          ],
          "name": "stdout"
        },
        {
          "output_type": "display_data",
          "data": {
            "image/png": "[encoded data removed]",
            "text/plain": [
              "<Figure size 432x288 with 2 Axes>"
            ]
          },
          "metadata": {
            "tags": [],
            "needs_background": "light"
          }
        },
        {
          "output_type": "stream",
          "text": [
            "Overall Accuracy: 0.6111111111111112\n",
            "\n",
            "\n",
            "\n",
            "\n",
            "Using a discount rate of 0.2\n",
            "Getting predictions for af\n",
            "OVR Accuracy for af : 0.51\n",
            "Getting predictions for cn\n",
            "OVR Accuracy for cn : 0.86\n",
            "Getting predictions for de\n",
            "OVR Accuracy for de : 0.64\n",
            "Getting predictions for fi\n",
            "OVR Accuracy for fi : 0.67\n",
            "Getting predictions for fr\n",
            "OVR Accuracy for fr : 0.77\n",
            "Getting predictions for in\n",
            "OVR Accuracy for in : 0.44\n",
            "Getting predictions for ir\n",
            "OVR Accuracy for ir : 0.39\n",
            "Getting predictions for pk\n",
            "OVR Accuracy for pk : 0.63\n",
            "Getting predictions for za\n",
            "OVR Accuracy for za : 0.62\n"
          ],
          "name": "stdout"
        },
        {
          "output_type": "display_data",
          "data": {
            "image/png": "[encoded data removed]",
            "text/plain": [
              "<Figure size 432x288 with 2 Axes>"
            ]
          },
          "metadata": {
            "tags": [],
            "needs_background": "light"
          }
        },
        {
          "output_type": "stream",
          "text": [
            "Overall Accuracy: 0.6144444444444445\n",
            "\n",
            "\n",
            "\n",
            "\n",
            "Using a discount rate of 0.30000000000000004\n",
            "Getting predictions for af\n",
            "OVR Accuracy for af : 0.53\n",
            "Getting predictions for cn\n",
            "OVR Accuracy for cn : 0.87\n",
            "Getting predictions for de\n",
            "OVR Accuracy for de : 0.66\n",
            "Getting predictions for fi\n",
            "OVR Accuracy for fi : 0.69\n",
            "Getting predictions for fr\n",
            "OVR Accuracy for fr : 0.77\n",
            "Getting predictions for in\n",
            "OVR Accuracy for in : 0.44\n",
            "Getting predictions for ir\n",
            "OVR Accuracy for ir : 0.4\n",
            "Getting predictions for pk\n",
            "OVR Accuracy for pk : 0.63\n",
            "Getting predictions for za\n",
            "OVR Accuracy for za : 0.62\n"
          ],
          "name": "stdout"
        },
        {
          "output_type": "display_data",
          "data": {
            "image/png": "[encoded data removed]",
            "text/plain": [
              "<Figure size 432x288 with 2 Axes>"
            ]
          },
          "metadata": {
            "tags": [],
            "needs_background": "light"
          }
        },
        {
          "output_type": "stream",
          "text": [
            "Overall Accuracy: 0.6233333333333333\n",
            "\n",
            "\n",
            "\n",
            "\n",
            "Using a discount rate of 0.4\n",
            "Getting predictions for af\n",
            "OVR Accuracy for af : 0.54\n",
            "Getting predictions for cn\n",
            "OVR Accuracy for cn : 0.87\n",
            "Getting predictions for de\n",
            "OVR Accuracy for de : 0.67\n",
            "Getting predictions for fi\n",
            "OVR Accuracy for fi : 0.7\n",
            "Getting predictions for fr\n",
            "OVR Accuracy for fr : 0.77\n",
            "Getting predictions for in\n",
            "OVR Accuracy for in : 0.44\n",
            "Getting predictions for ir\n",
            "OVR Accuracy for ir : 0.42\n",
            "Getting predictions for pk\n",
            "OVR Accuracy for pk : 0.63\n",
            "Getting predictions for za\n",
            "OVR Accuracy for za : 0.63\n"
          ],
          "name": "stdout"
        },
        {
          "output_type": "display_data",
          "data": {
            "image/png": "[encoded data removed]",
            "text/plain": [
              "<Figure size 432x288 with 2 Axes>"
            ]
          },
          "metadata": {
            "tags": [],
            "needs_background": "light"
          }
        },
        {
          "output_type": "stream",
          "text": [
            "Overall Accuracy: 0.63\n",
            "\n",
            "\n",
            "\n",
            "\n",
            "Using a discount rate of 0.5\n",
            "Getting predictions for af\n",
            "OVR Accuracy for af : 0.54\n",
            "Getting predictions for cn\n",
            "OVR Accuracy for cn : 0.88\n",
            "Getting predictions for de\n",
            "OVR Accuracy for de : 0.67\n",
            "Getting predictions for fi\n",
            "OVR Accuracy for fi : 0.73\n",
            "Getting predictions for fr\n",
            "OVR Accuracy for fr : 0.77\n",
            "Getting predictions for in\n",
            "OVR Accuracy for in : 0.44\n",
            "Getting predictions for ir\n",
            "OVR Accuracy for ir : 0.41\n",
            "Getting predictions for pk\n",
            "OVR Accuracy for pk : 0.63\n",
            "Getting predictions for za\n",
            "OVR Accuracy for za : 0.63\n"
          ],
          "name": "stdout"
        },
        {
          "output_type": "display_data",
          "data": {
            "image/png": "[encoded data removed]",
            "text/plain": [
              "<Figure size 432x288 with 2 Axes>"
            ]
          },
          "metadata": {
            "tags": [],
            "needs_background": "light"
          }
        },
        {
          "output_type": "stream",
          "text": [
            "Overall Accuracy: 0.6333333333333333\n",
            "\n",
            "\n",
            "\n",
            "\n",
            "Using a discount rate of 0.6000000000000001\n",
            "Getting predictions for af\n",
            "OVR Accuracy for af : 0.54\n",
            "Getting predictions for cn\n",
            "OVR Accuracy for cn : 0.88\n",
            "Getting predictions for de\n",
            "OVR Accuracy for de : 0.67\n",
            "Getting predictions for fi\n",
            "OVR Accuracy for fi : 0.73\n",
            "Getting predictions for fr\n",
            "OVR Accuracy for fr : 0.77\n",
            "Getting predictions for in\n",
            "OVR Accuracy for in : 0.45\n",
            "Getting predictions for ir\n",
            "OVR Accuracy for ir : 0.4\n",
            "Getting predictions for pk\n",
            "OVR Accuracy for pk : 0.64\n",
            "Getting predictions for za\n",
            "OVR Accuracy for za : 0.63\n"
          ],
          "name": "stdout"
        },
        {
          "output_type": "display_data",
          "data": {
            "image/png": "[encoded data removed]",
            "text/plain": [
              "<Figure size 432x288 with 2 Axes>"
            ]
          },
          "metadata": {
            "tags": [],
            "needs_background": "light"
          }
        },
        {
          "output_type": "stream",
          "text": [
            "Overall Accuracy: 0.6344444444444445\n",
            "\n",
            "\n",
            "\n",
            "\n",
            "Using a discount rate of 0.7000000000000001\n",
            "Getting predictions for af\n",
            "OVR Accuracy for af : 0.54\n",
            "Getting predictions for cn\n",
            "OVR Accuracy for cn : 0.88\n",
            "Getting predictions for de\n",
            "OVR Accuracy for de : 0.66\n",
            "Getting predictions for fi\n",
            "OVR Accuracy for fi : 0.73\n",
            "Getting predictions for fr\n",
            "OVR Accuracy for fr : 0.77\n",
            "Getting predictions for in\n",
            "OVR Accuracy for in : 0.44\n",
            "Getting predictions for ir\n",
            "OVR Accuracy for ir : 0.39\n",
            "Getting predictions for pk\n",
            "OVR Accuracy for pk : 0.64\n",
            "Getting predictions for za\n",
            "OVR Accuracy for za : 0.63\n"
          ],
          "name": "stdout"
        },
        {
          "output_type": "display_data",
          "data": {
            "image/png": "[encoded data removed]",
            "text/plain": [
              "<Figure size 432x288 with 2 Axes>"
            ]
          },
          "metadata": {
            "tags": [],
            "needs_background": "light"
          }
        },
        {
          "output_type": "stream",
          "text": [
            "Overall Accuracy: 0.6311111111111111\n",
            "\n",
            "\n",
            "\n",
            "\n",
            "Using a discount rate of 0.8\n",
            "Getting predictions for af\n",
            "OVR Accuracy for af : 0.55\n",
            "Getting predictions for cn\n",
            "OVR Accuracy for cn : 0.89\n",
            "Getting predictions for de\n",
            "OVR Accuracy for de : 0.68\n",
            "Getting predictions for fi\n",
            "OVR Accuracy for fi : 0.74\n",
            "Getting predictions for fr\n",
            "OVR Accuracy for fr : 0.77\n",
            "Getting predictions for in\n",
            "OVR Accuracy for in : 0.46\n",
            "Getting predictions for ir\n",
            "OVR Accuracy for ir : 0.4\n",
            "Getting predictions for pk\n",
            "OVR Accuracy for pk : 0.63\n",
            "Getting predictions for za\n",
            "OVR Accuracy for za : 0.62\n"
          ],
          "name": "stdout"
        },
        {
          "output_type": "display_data",
          "data": {
            "image/png": "[encoded data removed]",
            "text/plain": [
              "<Figure size 432x288 with 2 Axes>"
            ]
          },
          "metadata": {
            "tags": [],
            "needs_background": "light"
          }
        },
        {
          "output_type": "stream",
          "text": [
            "Overall Accuracy: 0.6377777777777778\n",
            "\n",
            "\n",
            "\n",
            "\n",
            "Using a discount rate of 0.9\n",
            "Getting predictions for af\n",
            "OVR Accuracy for af : 0.55\n",
            "Getting predictions for cn\n",
            "OVR Accuracy for cn : 0.89\n",
            "Getting predictions for de\n",
            "OVR Accuracy for de : 0.67\n",
            "Getting predictions for fi\n",
            "OVR Accuracy for fi : 0.74\n",
            "Getting predictions for fr\n",
            "OVR Accuracy for fr : 0.77\n",
            "Getting predictions for in\n",
            "OVR Accuracy for in : 0.47\n",
            "Getting predictions for ir\n",
            "OVR Accuracy for ir : 0.38\n",
            "Getting predictions for pk\n",
            "OVR Accuracy for pk : 0.63\n",
            "Getting predictions for za\n",
            "OVR Accuracy for za : 0.63\n"
          ],
          "name": "stdout"
        },
        {
          "output_type": "display_data",
          "data": {
            "image/png": "[encoded data removed]",
            "text/plain": [
              "<Figure size 432x288 with 2 Axes>"
            ]
          },
          "metadata": {
            "tags": [],
            "needs_background": "light"
          }
        },
        {
          "output_type": "stream",
          "text": [
            "Overall Accuracy: 0.6366666666666667\n",
            "\n",
            "\n",
            "\n",
            "\n",
            "Using a discount rate of 1.0\n",
            "Getting predictions for af\n",
            "OVR Accuracy for af : 0.54\n",
            "Getting predictions for cn\n",
            "OVR Accuracy for cn : 0.89\n",
            "Getting predictions for de\n",
            "OVR Accuracy for de : 0.67\n",
            "Getting predictions for fi\n",
            "OVR Accuracy for fi : 0.74\n",
            "Getting predictions for fr\n",
            "OVR Accuracy for fr : 0.77\n",
            "Getting predictions for in\n",
            "OVR Accuracy for in : 0.47\n",
            "Getting predictions for ir\n",
            "OVR Accuracy for ir : 0.39\n",
            "Getting predictions for pk\n",
            "OVR Accuracy for pk : 0.63\n",
            "Getting predictions for za\n",
            "OVR Accuracy for za : 0.62\n"
          ],
          "name": "stdout"
        },
        {
          "output_type": "display_data",
          "data": {
            "image/png": "[encoded data removed]",
            "text/plain": [
              "<Figure size 432x288 with 2 Axes>"
            ]
          },
          "metadata": {
            "tags": [],
            "needs_background": "light"
          }
        },
        {
          "output_type": "stream",
          "text": [
            "Overall Accuracy: 0.6355555555555555\n",
            "\n",
            "\n",
            "\n",
            "\n",
            "LOO Maximum Likelihood Discount Rate\n",
            "\n",
            "Getting Discounts\n",
            "af will be using a discount of 0.5201808201485308\n",
            "cn will be using a discount of 0.5518518518518518\n",
            "de will be using a discount of 0.5331360946745562\n",
            "fi will be using a discount of 0.5106512477175897\n",
            "fr will be using a discount of 0.5335820895522388\n",
            "in will be using a discount of 0.5166798003677436\n",
            "ir will be using a discount of 0.5326215895610913\n",
            "pk will be using a discount of 0.5260215053763441\n",
            "za will be using a discount of 0.5284637379776449\n",
            "Getting predictions for af\n",
            "OVR Accuracy for af : 0.54\n",
            "Getting predictions for cn\n",
            "OVR Accuracy for cn : 0.88\n",
            "Getting predictions for de\n",
            "OVR Accuracy for de : 0.67\n",
            "Getting predictions for fi\n",
            "OVR Accuracy for fi : 0.73\n",
            "Getting predictions for fr\n",
            "OVR Accuracy for fr : 0.77\n",
            "Getting predictions for in\n",
            "OVR Accuracy for in : 0.44\n",
            "Getting predictions for ir\n",
            "OVR Accuracy for ir : 0.42\n",
            "Getting predictions for pk\n",
            "OVR Accuracy for pk : 0.63\n",
            "Getting predictions for za\n",
            "OVR Accuracy for za : 0.63\n"
          ],
          "name": "stdout"
        },
        {
          "output_type": "display_data",
          "data": {
            "image/png": "[encoded data removed]",
            "text/plain": [
              "<Figure size 432x288 with 2 Axes>"
            ]
          },
          "metadata": {
            "tags": [],
            "needs_background": "light"
          }
        },
        {
          "output_type": "stream",
          "text": [
            "Overall Accuracy: 0.6344444444444445\n",
            "\n",
            "\n",
            "\n",
            "\n",
            "Using the Kneser-Ney model\n",
            "Getting predictions for af\n",
            "OVR Accuracy for af : 0.52\n",
            "Getting predictions for cn\n",
            "OVR Accuracy for cn : 0.89\n",
            "Getting predictions for de\n",
            "OVR Accuracy for de : 0.69\n",
            "Getting predictions for fi\n",
            "OVR Accuracy for fi : 0.8\n",
            "Getting predictions for fr\n",
            "OVR Accuracy for fr : 0.77\n",
            "Getting predictions for in\n",
            "OVR Accuracy for in : 0.46\n",
            "Getting predictions for ir\n",
            "OVR Accuracy for ir : 0.45\n",
            "Getting predictions for pk\n",
            "OVR Accuracy for pk : 0.64\n",
            "Getting predictions for za\n",
            "OVR Accuracy for za : 0.64\n"
          ],
          "name": "stdout"
        },
        {
          "output_type": "display_data",
          "data": {
            "image/png": "[encoded data removed]",
            "text/plain": [
              "<Figure size 432x288 with 2 Axes>"
            ]
          },
          "metadata": {
            "tags": [],
            "needs_background": "light"
          }
        },
        {
          "output_type": "stream",
          "text": [
            "Overall Accuracy: 0.6511111111111111\n",
            "\n",
            "\n",
            "\n",
            "\n"
          ],
          "name": "stdout"
        }
      ]
    },
    {
      "cell_type": "markdown",
      "metadata": {
        "id": "zeDYnzZZktAe"
      },
      "source": [
        "We will now visualize the breakdown of results across models. The different models are represented by the indices: the numbered indices represent AD models with the given discount rate, the LOO represents AD models with the LOO maximum likelihood discount rate, and KN is an imported KneserNey model.\n",
        "\n",
        "We see that, of my AD models, the maximum overall accuracy is 63.78% when discount=.8 and so we will use discount=.8 for the test set prediction. "
      ]
    },
    {
      "cell_type": "code",
      "metadata": {
        "id": "ZfsDiunMQOAl",
        "colab": {
          "base_uri": "https://localhost:8080/",
          "height": 452
        },
        "outputId": "7b301fe7-7c51-4b84-e94c-cbc719a317a3"
      },
      "source": [
        "display(acc_df)"
      ],
      "execution_count": null,
      "outputs": [
        {
          "output_type": "display_data",
          "data": {
            "text/html": [
              "<div>\n",
              "<style scoped>\n",
              "    .dataframe tbody tr th:only-of-type {\n",
              "        vertical-align: middle;\n",
              "    }\n",
              "\n",
              "    .dataframe tbody tr th {\n",
              "        vertical-align: top;\n",
              "    }\n",
              "\n",
              "    .dataframe thead th {\n",
              "        text-align: right;\n",
              "    }\n",
              "</style>\n",
              "<table border=\"1\" class=\"dataframe\">\n",
              "  <thead>\n",
              "    <tr style=\"text-align: right;\">\n",
              "      <th></th>\n",
              "      <th>af</th>\n",
              "      <th>cn</th>\n",
              "      <th>de</th>\n",
              "      <th>fi</th>\n",
              "      <th>fr</th>\n",
              "      <th>in</th>\n",
              "      <th>ir</th>\n",
              "      <th>pk</th>\n",
              "      <th>za</th>\n",
              "      <th>AVG</th>\n",
              "    </tr>\n",
              "  </thead>\n",
              "  <tbody>\n",
              "    <tr>\n",
              "      <th>0.0</th>\n",
              "      <td>0.58</td>\n",
              "      <td>0.78</td>\n",
              "      <td>0.46</td>\n",
              "      <td>0.57</td>\n",
              "      <td>0.67</td>\n",
              "      <td>0.34</td>\n",
              "      <td>0.35</td>\n",
              "      <td>0.53</td>\n",
              "      <td>0.49</td>\n",
              "      <td>0.530000</td>\n",
              "    </tr>\n",
              "    <tr>\n",
              "      <th>0.1</th>\n",
              "      <td>0.49</td>\n",
              "      <td>0.86</td>\n",
              "      <td>0.61</td>\n",
              "      <td>0.67</td>\n",
              "      <td>0.76</td>\n",
              "      <td>0.44</td>\n",
              "      <td>0.41</td>\n",
              "      <td>0.63</td>\n",
              "      <td>0.63</td>\n",
              "      <td>0.611111</td>\n",
              "    </tr>\n",
              "    <tr>\n",
              "      <th>0.2</th>\n",
              "      <td>0.51</td>\n",
              "      <td>0.86</td>\n",
              "      <td>0.64</td>\n",
              "      <td>0.67</td>\n",
              "      <td>0.77</td>\n",
              "      <td>0.44</td>\n",
              "      <td>0.39</td>\n",
              "      <td>0.63</td>\n",
              "      <td>0.62</td>\n",
              "      <td>0.614444</td>\n",
              "    </tr>\n",
              "    <tr>\n",
              "      <th>0.3</th>\n",
              "      <td>0.53</td>\n",
              "      <td>0.87</td>\n",
              "      <td>0.66</td>\n",
              "      <td>0.69</td>\n",
              "      <td>0.77</td>\n",
              "      <td>0.44</td>\n",
              "      <td>0.40</td>\n",
              "      <td>0.63</td>\n",
              "      <td>0.62</td>\n",
              "      <td>0.623333</td>\n",
              "    </tr>\n",
              "    <tr>\n",
              "      <th>0.4</th>\n",
              "      <td>0.54</td>\n",
              "      <td>0.87</td>\n",
              "      <td>0.67</td>\n",
              "      <td>0.70</td>\n",
              "      <td>0.77</td>\n",
              "      <td>0.44</td>\n",
              "      <td>0.42</td>\n",
              "      <td>0.63</td>\n",
              "      <td>0.63</td>\n",
              "      <td>0.630000</td>\n",
              "    </tr>\n",
              "    <tr>\n",
              "      <th>0.5</th>\n",
              "      <td>0.54</td>\n",
              "      <td>0.88</td>\n",
              "      <td>0.67</td>\n",
              "      <td>0.73</td>\n",
              "      <td>0.77</td>\n",
              "      <td>0.44</td>\n",
              "      <td>0.41</td>\n",
              "      <td>0.63</td>\n",
              "      <td>0.63</td>\n",
              "      <td>0.633333</td>\n",
              "    </tr>\n",
              "    <tr>\n",
              "      <th>0.6</th>\n",
              "      <td>0.54</td>\n",
              "      <td>0.88</td>\n",
              "      <td>0.67</td>\n",
              "      <td>0.73</td>\n",
              "      <td>0.77</td>\n",
              "      <td>0.45</td>\n",
              "      <td>0.40</td>\n",
              "      <td>0.64</td>\n",
              "      <td>0.63</td>\n",
              "      <td>0.634444</td>\n",
              "    </tr>\n",
              "    <tr>\n",
              "      <th>0.7</th>\n",
              "      <td>0.54</td>\n",
              "      <td>0.88</td>\n",
              "      <td>0.66</td>\n",
              "      <td>0.73</td>\n",
              "      <td>0.77</td>\n",
              "      <td>0.44</td>\n",
              "      <td>0.39</td>\n",
              "      <td>0.64</td>\n",
              "      <td>0.63</td>\n",
              "      <td>0.631111</td>\n",
              "    </tr>\n",
              "    <tr>\n",
              "      <th>0.8</th>\n",
              "      <td>0.55</td>\n",
              "      <td>0.89</td>\n",
              "      <td>0.68</td>\n",
              "      <td>0.74</td>\n",
              "      <td>0.77</td>\n",
              "      <td>0.46</td>\n",
              "      <td>0.40</td>\n",
              "      <td>0.63</td>\n",
              "      <td>0.62</td>\n",
              "      <td>0.637778</td>\n",
              "    </tr>\n",
              "    <tr>\n",
              "      <th>0.9</th>\n",
              "      <td>0.55</td>\n",
              "      <td>0.89</td>\n",
              "      <td>0.67</td>\n",
              "      <td>0.74</td>\n",
              "      <td>0.77</td>\n",
              "      <td>0.47</td>\n",
              "      <td>0.38</td>\n",
              "      <td>0.63</td>\n",
              "      <td>0.63</td>\n",
              "      <td>0.636667</td>\n",
              "    </tr>\n",
              "    <tr>\n",
              "      <th>1.0</th>\n",
              "      <td>0.54</td>\n",
              "      <td>0.89</td>\n",
              "      <td>0.67</td>\n",
              "      <td>0.74</td>\n",
              "      <td>0.77</td>\n",
              "      <td>0.47</td>\n",
              "      <td>0.39</td>\n",
              "      <td>0.63</td>\n",
              "      <td>0.62</td>\n",
              "      <td>0.635556</td>\n",
              "    </tr>\n",
              "    <tr>\n",
              "      <th>LOO</th>\n",
              "      <td>0.54</td>\n",
              "      <td>0.88</td>\n",
              "      <td>0.67</td>\n",
              "      <td>0.73</td>\n",
              "      <td>0.77</td>\n",
              "      <td>0.44</td>\n",
              "      <td>0.42</td>\n",
              "      <td>0.63</td>\n",
              "      <td>0.63</td>\n",
              "      <td>0.634444</td>\n",
              "    </tr>\n",
              "    <tr>\n",
              "      <th>KN</th>\n",
              "      <td>0.52</td>\n",
              "      <td>0.89</td>\n",
              "      <td>0.69</td>\n",
              "      <td>0.80</td>\n",
              "      <td>0.77</td>\n",
              "      <td>0.46</td>\n",
              "      <td>0.45</td>\n",
              "      <td>0.64</td>\n",
              "      <td>0.64</td>\n",
              "      <td>0.651111</td>\n",
              "    </tr>\n",
              "  </tbody>\n",
              "</table>\n",
              "</div>"
            ],
            "text/plain": [
              "       af    cn    de    fi    fr    in    ir    pk    za       AVG\n",
              "0.0  0.58  0.78  0.46  0.57  0.67  0.34  0.35  0.53  0.49  0.530000\n",
              "0.1  0.49  0.86  0.61  0.67  0.76  0.44  0.41  0.63  0.63  0.611111\n",
              "0.2  0.51  0.86  0.64  0.67  0.77  0.44  0.39  0.63  0.62  0.614444\n",
              "0.3  0.53  0.87  0.66  0.69  0.77  0.44  0.40  0.63  0.62  0.623333\n",
              "0.4  0.54  0.87  0.67  0.70  0.77  0.44  0.42  0.63  0.63  0.630000\n",
              "0.5  0.54  0.88  0.67  0.73  0.77  0.44  0.41  0.63  0.63  0.633333\n",
              "0.6  0.54  0.88  0.67  0.73  0.77  0.45  0.40  0.64  0.63  0.634444\n",
              "0.7  0.54  0.88  0.66  0.73  0.77  0.44  0.39  0.64  0.63  0.631111\n",
              "0.8  0.55  0.89  0.68  0.74  0.77  0.46  0.40  0.63  0.62  0.637778\n",
              "0.9  0.55  0.89  0.67  0.74  0.77  0.47  0.38  0.63  0.63  0.636667\n",
              "1.0  0.54  0.89  0.67  0.74  0.77  0.47  0.39  0.63  0.62  0.635556\n",
              "LOO  0.54  0.88  0.67  0.73  0.77  0.44  0.42  0.63  0.63  0.634444\n",
              "KN   0.52  0.89  0.69  0.80  0.77  0.46  0.45  0.64  0.64  0.651111"
            ]
          },
          "metadata": {
            "tags": []
          }
        }
      ]
    },
    {
      "cell_type": "markdown",
      "metadata": {
        "id": "ZthNgBjjsmQ6"
      },
      "source": [
        "These are the average accuracies across countries so that we can see how the difficulty of labeling different countries differs."
      ]
    },
    {
      "cell_type": "code",
      "metadata": {
        "id": "8sK-dZ1lpyiD",
        "colab": {
          "base_uri": "https://localhost:8080/",
          "height": 463
        },
        "outputId": "062cc44b-ae7d-4087-d8b9-9da732c12f56"
      },
      "source": [
        "df = acc_df.iloc[:-2].mean(0)\n",
        "display(df)\n",
        "plot = df.plot(kind='bar')\n",
        "plt.show()"
      ],
      "execution_count": null,
      "outputs": [
        {
          "output_type": "display_data",
          "data": {
            "text/plain": [
              "af     0.537273\n",
              "cn     0.868182\n",
              "de     0.641818\n",
              "fi     0.700909\n",
              "fr     0.760000\n",
              "in     0.439091\n",
              "ir     0.394545\n",
              "pk     0.622727\n",
              "za     0.613636\n",
              "AVG    0.619798\n",
              "dtype: float64"
            ]
          },
          "metadata": {
            "tags": []
          }
        },
        {
          "output_type": "display_data",
          "data": {
            "image/png": "[encoded data removed]",
            "text/plain": [
              "<Figure size 432x288 with 1 Axes>"
            ]
          },
          "metadata": {
            "tags": [],
            "needs_background": "light"
          }
        }
      ]
    },
    {
      "cell_type": "markdown",
      "metadata": {
        "id": "mwtjKlI9TBLy"
      },
      "source": [
        "Plotting accuracies for different countries across discount rates. The X-axis is discount rates and the y axis is accuracy."
      ]
    },
    {
      "cell_type": "code",
      "metadata": {
        "id": "T2WTxKUUKnWx",
        "colab": {
          "base_uri": "https://localhost:8080/",
          "height": 265
        },
        "outputId": "78e2e146-13e9-4264-fd2c-d403befb325d"
      },
      "source": [
        "acc_plot = acc_df.iloc[:-2].plot()\n",
        "plt.show()"
      ],
      "execution_count": null,
      "outputs": [
        {
          "output_type": "display_data",
          "data": {
            "image/png": "[encoded data removed]",
            "text/plain": [
              "<Figure size 432x288 with 1 Axes>"
            ]
          },
          "metadata": {
            "tags": [],
            "needs_background": "light"
          }
        }
      ]
    },
    {
      "cell_type": "markdown",
      "metadata": {
        "id": "ZuNvf06cblw9"
      },
      "source": [
        "Plotting average accuracy against discount rate. Accuracy is on the y axis and discount rate is on the x axis."
      ]
    },
    {
      "cell_type": "code",
      "metadata": {
        "id": "6P3AfeaFblL2",
        "colab": {
          "base_uri": "https://localhost:8080/",
          "height": 265
        },
        "outputId": "e13d0ba7-c19b-4cf3-c324-fc1c54dcec1f"
      },
      "source": [
        "acc_plot = acc_df.iloc[:-2].mean(1).plot()\n",
        "plt.show()"
      ],
      "execution_count": null,
      "outputs": [
        {
          "output_type": "display_data",
          "data": {
            "image/png": "[encoded data removed]",
            "text/plain": [
              "<Figure size 432x288 with 1 Axes>"
            ]
          },
          "metadata": {
            "tags": [],
            "needs_background": "light"
          }
        }
      ]
    },
    {
      "cell_type": "markdown",
      "metadata": {
        "id": "yU_sojJYSb2Z"
      },
      "source": [
        "Comparing accuracies of the best fixed discount rate of .8, the LOO maximum discount rate and the KneserNey model"
      ]
    },
    {
      "cell_type": "code",
      "metadata": {
        "id": "6ni54THPRgih",
        "colab": {
          "base_uri": "https://localhost:8080/",
          "height": 276
        },
        "outputId": "120c8df3-a83c-4614-c3b2-e1b366162c3b"
      },
      "source": [
        "acc_plot = acc_df.loc[['0.8','LOO','KN']].T.plot(kind='bar')\n",
        "\n",
        "plt.show()"
      ],
      "execution_count": null,
      "outputs": [
        {
          "output_type": "display_data",
          "data": {
            "image/png": "[encoded data removed]",
            "text/plain": [
              "<Figure size 432x288 with 1 Axes>"
            ]
          },
          "metadata": {
            "tags": [],
            "needs_background": "light"
          }
        }
      ]
    },
    {
      "cell_type": "markdown",
      "metadata": {
        "id": "LOmZ_rDzlCSO"
      },
      "source": [
        "We choose a discount of .8, and use the absolute discounting models to predict the countries for the test cities."
      ]
    },
    {
      "cell_type": "code",
      "metadata": {
        "id": "i-JTWLvWonJ6",
        "colab": {
          "base_uri": "https://localhost:8080/"
        },
        "outputId": "8de579dd-7060-46f6-c2cd-a26575e7c1da"
      },
      "source": [
        "model = 3\n",
        "disc = .8\n",
        "\n",
        "model_dict = get_ad_model_dict(COUNTRY_CODES,order)\n",
        "disc_dict = dict(zip(COUNTRY_CODES,len(COUNTRY_CODES)*[disc]))\n",
        "\n",
        "with open(TEST_DS_PATH, \n",
        "            encoding='utf-8', \n",
        "            errors='ignore') as f:\n",
        "  cities = []\n",
        "  for line in f:\n",
        "      cities.append(preprocess_text(line))\n",
        "city_ser = get_ad_pred(cities,model_dict,disc_dict)\n",
        "for pred in city_ser:\n",
        "  print(pred)"
      ],
      "execution_count": null,
      "outputs": [
        {
          "output_type": "stream",
          "text": [
            "pk\n",
            "fi\n",
            "fi\n",
            "af\n",
            "de\n",
            "fi\n",
            "za\n",
            "ir\n",
            "de\n",
            "af\n",
            "in\n",
            "fi\n",
            "af\n",
            "de\n",
            "fi\n",
            "za\n",
            "ir\n",
            "fr\n",
            "ir\n",
            "in\n",
            "fi\n",
            "cn\n",
            "pk\n",
            "ir\n",
            "af\n",
            "fi\n",
            "de\n",
            "de\n",
            "de\n",
            "ir\n",
            "pk\n",
            "fi\n",
            "cn\n",
            "pk\n",
            "fr\n",
            "cn\n",
            "ir\n",
            "fi\n",
            "de\n",
            "ir\n",
            "af\n",
            "in\n",
            "za\n",
            "in\n",
            "za\n",
            "af\n",
            "de\n",
            "za\n",
            "cn\n",
            "cn\n",
            "fr\n",
            "za\n",
            "ir\n",
            "ir\n",
            "in\n",
            "in\n",
            "in\n",
            "in\n",
            "cn\n",
            "za\n",
            "fi\n",
            "pk\n",
            "de\n",
            "cn\n",
            "za\n",
            "af\n",
            "fi\n",
            "af\n",
            "cn\n",
            "cn\n",
            "in\n",
            "de\n",
            "cn\n",
            "pk\n",
            "cn\n",
            "de\n",
            "in\n",
            "za\n",
            "ir\n",
            "ir\n",
            "in\n",
            "in\n",
            "za\n",
            "af\n",
            "de\n",
            "ir\n",
            "fr\n",
            "za\n",
            "za\n",
            "fr\n",
            "fi\n",
            "de\n",
            "af\n",
            "cn\n",
            "fi\n",
            "cn\n",
            "in\n",
            "de\n",
            "fr\n",
            "pk\n",
            "fi\n",
            "cn\n",
            "za\n",
            "fr\n",
            "za\n",
            "fr\n",
            "ir\n",
            "fr\n",
            "fr\n",
            "af\n",
            "in\n",
            "fr\n",
            "za\n",
            "cn\n",
            "pk\n",
            "pk\n",
            "af\n",
            "fi\n",
            "ir\n",
            "in\n",
            "cn\n",
            "de\n",
            "cn\n",
            "de\n",
            "cn\n",
            "in\n",
            "pk\n",
            "pk\n",
            "cn\n",
            "de\n",
            "za\n",
            "fr\n",
            "in\n",
            "cn\n",
            "pk\n",
            "pk\n",
            "fi\n",
            "de\n",
            "af\n",
            "de\n",
            "za\n",
            "in\n",
            "fi\n",
            "pk\n",
            "cn\n",
            "fr\n",
            "za\n",
            "za\n",
            "pk\n",
            "in\n",
            "fi\n",
            "af\n",
            "af\n",
            "za\n",
            "fi\n",
            "pk\n",
            "in\n",
            "fr\n",
            "af\n",
            "in\n",
            "ir\n",
            "ir\n",
            "in\n",
            "za\n",
            "in\n",
            "pk\n",
            "af\n",
            "af\n",
            "in\n",
            "in\n",
            "af\n",
            "af\n",
            "za\n",
            "cn\n",
            "pk\n",
            "ir\n",
            "de\n",
            "de\n",
            "fr\n",
            "in\n",
            "fr\n",
            "za\n",
            "in\n",
            "af\n",
            "za\n",
            "de\n",
            "fr\n",
            "pk\n",
            "za\n",
            "za\n",
            "za\n",
            "cn\n",
            "za\n",
            "fi\n",
            "in\n",
            "fr\n",
            "cn\n",
            "fr\n",
            "fi\n",
            "fi\n",
            "za\n",
            "za\n",
            "pk\n",
            "fr\n",
            "za\n",
            "af\n",
            "fi\n",
            "za\n",
            "af\n",
            "in\n",
            "fr\n",
            "ir\n",
            "fi\n",
            "fi\n",
            "de\n",
            "de\n",
            "af\n",
            "pk\n",
            "fr\n",
            "fr\n",
            "fi\n",
            "de\n",
            "cn\n",
            "af\n",
            "in\n",
            "fr\n",
            "fr\n",
            "za\n",
            "cn\n",
            "af\n",
            "za\n",
            "af\n",
            "ir\n",
            "cn\n",
            "de\n",
            "de\n",
            "fr\n",
            "de\n",
            "de\n",
            "za\n",
            "pk\n",
            "za\n",
            "ir\n",
            "pk\n",
            "ir\n",
            "fi\n",
            "af\n",
            "ir\n",
            "fr\n",
            "fi\n",
            "in\n",
            "af\n",
            "de\n",
            "fi\n",
            "fi\n",
            "fr\n",
            "in\n",
            "af\n",
            "fi\n",
            "de\n",
            "fi\n",
            "ir\n",
            "fi\n",
            "in\n",
            "cn\n",
            "de\n",
            "af\n",
            "ir\n",
            "fr\n",
            "de\n",
            "af\n",
            "fr\n",
            "fr\n",
            "de\n",
            "ir\n",
            "fi\n",
            "pk\n",
            "fr\n",
            "pk\n",
            "za\n",
            "fr\n",
            "in\n",
            "de\n",
            "pk\n",
            "pk\n",
            "ir\n",
            "fi\n",
            "in\n",
            "ir\n",
            "ir\n",
            "af\n",
            "pk\n",
            "af\n",
            "fr\n",
            "af\n",
            "za\n",
            "de\n",
            "cn\n",
            "cn\n",
            "fr\n",
            "pk\n",
            "af\n",
            "cn\n",
            "in\n",
            "ir\n",
            "de\n",
            "ir\n",
            "ir\n",
            "de\n",
            "af\n",
            "fr\n",
            "cn\n",
            "de\n",
            "pk\n",
            "de\n",
            "za\n",
            "pk\n",
            "cn\n",
            "cn\n",
            "fi\n",
            "za\n",
            "za\n",
            "af\n",
            "za\n",
            "fi\n",
            "fr\n",
            "af\n",
            "fi\n",
            "in\n",
            "ir\n",
            "ir\n",
            "ir\n",
            "fi\n",
            "pk\n",
            "ir\n",
            "de\n",
            "de\n",
            "fi\n",
            "in\n",
            "in\n",
            "cn\n",
            "ir\n",
            "fi\n",
            "de\n",
            "af\n",
            "za\n",
            "af\n",
            "de\n",
            "ir\n",
            "af\n",
            "ir\n",
            "cn\n",
            "de\n",
            "in\n",
            "cn\n",
            "de\n",
            "de\n",
            "fi\n",
            "de\n",
            "de\n",
            "de\n",
            "af\n",
            "de\n",
            "in\n",
            "ir\n",
            "ir\n",
            "de\n",
            "za\n",
            "af\n",
            "pk\n",
            "cn\n",
            "af\n",
            "cn\n",
            "fr\n",
            "za\n",
            "pk\n",
            "in\n",
            "pk\n",
            "in\n",
            "fi\n",
            "cn\n",
            "fr\n",
            "af\n",
            "de\n",
            "de\n",
            "pk\n",
            "fr\n",
            "af\n",
            "af\n",
            "in\n",
            "de\n",
            "pk\n",
            "de\n",
            "fi\n",
            "de\n",
            "cn\n",
            "fr\n",
            "fi\n",
            "de\n",
            "fi\n",
            "de\n",
            "cn\n",
            "za\n",
            "pk\n",
            "pk\n",
            "de\n",
            "fi\n",
            "ir\n",
            "af\n",
            "za\n",
            "ir\n",
            "fi\n",
            "af\n",
            "fi\n",
            "af\n",
            "in\n",
            "pk\n",
            "de\n",
            "de\n",
            "za\n",
            "ir\n",
            "cn\n",
            "in\n",
            "ir\n",
            "af\n",
            "pk\n",
            "fr\n",
            "af\n",
            "de\n",
            "pk\n",
            "de\n",
            "fr\n",
            "ir\n",
            "ir\n",
            "de\n",
            "fr\n",
            "de\n",
            "za\n",
            "ir\n",
            "fr\n",
            "af\n",
            "de\n",
            "cn\n",
            "fr\n",
            "in\n",
            "za\n",
            "za\n",
            "in\n",
            "fi\n",
            "af\n",
            "de\n",
            "fr\n",
            "za\n",
            "ir\n",
            "ir\n",
            "fi\n",
            "de\n",
            "in\n",
            "af\n",
            "fr\n",
            "cn\n",
            "de\n",
            "pk\n",
            "fr\n",
            "za\n",
            "pk\n",
            "fr\n",
            "cn\n",
            "de\n",
            "de\n",
            "za\n",
            "za\n",
            "pk\n",
            "fr\n",
            "fr\n",
            "in\n",
            "de\n",
            "pk\n",
            "fr\n",
            "in\n",
            "pk\n",
            "za\n",
            "pk\n",
            "cn\n",
            "in\n",
            "pk\n",
            "cn\n",
            "de\n",
            "ir\n",
            "fi\n",
            "ir\n",
            "pk\n",
            "ir\n",
            "za\n",
            "in\n",
            "ir\n",
            "de\n",
            "fr\n",
            "de\n",
            "pk\n",
            "za\n",
            "cn\n",
            "af\n",
            "cn\n",
            "af\n",
            "cn\n",
            "cn\n",
            "za\n",
            "fr\n",
            "de\n",
            "af\n",
            "de\n",
            "de\n",
            "pk\n",
            "fi\n",
            "ir\n",
            "cn\n",
            "pk\n",
            "af\n",
            "de\n",
            "cn\n",
            "fr\n",
            "pk\n",
            "za\n",
            "za\n",
            "fi\n",
            "za\n",
            "de\n",
            "af\n",
            "ir\n",
            "cn\n",
            "fi\n",
            "in\n",
            "de\n",
            "pk\n",
            "fr\n",
            "cn\n",
            "ir\n",
            "fr\n",
            "fi\n",
            "za\n",
            "ir\n",
            "pk\n",
            "ir\n",
            "in\n",
            "ir\n",
            "cn\n",
            "ir\n",
            "cn\n",
            "de\n",
            "af\n",
            "in\n",
            "ir\n",
            "af\n",
            "pk\n",
            "af\n",
            "af\n",
            "ir\n",
            "fi\n",
            "fi\n",
            "in\n",
            "in\n",
            "in\n",
            "in\n",
            "fi\n",
            "de\n",
            "ir\n",
            "af\n",
            "in\n",
            "de\n",
            "de\n",
            "de\n",
            "fr\n",
            "de\n",
            "fr\n",
            "af\n",
            "ir\n",
            "ir\n",
            "af\n",
            "de\n",
            "pk\n",
            "af\n",
            "in\n",
            "fr\n",
            "in\n",
            "in\n",
            "cn\n",
            "fr\n",
            "cn\n",
            "cn\n",
            "za\n",
            "ir\n",
            "cn\n",
            "af\n",
            "fr\n",
            "in\n",
            "de\n",
            "pk\n",
            "af\n",
            "fi\n",
            "za\n",
            "af\n",
            "in\n",
            "ir\n",
            "af\n",
            "ir\n",
            "fr\n",
            "af\n",
            "de\n",
            "za\n",
            "ir\n",
            "af\n",
            "fi\n",
            "in\n",
            "ir\n",
            "ir\n",
            "za\n",
            "za\n",
            "in\n",
            "cn\n",
            "af\n",
            "de\n",
            "in\n",
            "fi\n",
            "za\n",
            "cn\n",
            "cn\n",
            "fr\n",
            "za\n",
            "za\n",
            "za\n",
            "ir\n",
            "in\n",
            "za\n",
            "pk\n",
            "fi\n",
            "cn\n",
            "pk\n",
            "in\n",
            "cn\n",
            "ir\n",
            "af\n",
            "fi\n",
            "za\n",
            "cn\n",
            "in\n",
            "cn\n",
            "fi\n",
            "af\n",
            "fi\n",
            "in\n",
            "fi\n",
            "af\n",
            "fi\n",
            "fr\n",
            "de\n",
            "za\n",
            "in\n",
            "pk\n",
            "za\n",
            "fi\n",
            "pk\n",
            "cn\n",
            "cn\n",
            "af\n",
            "fr\n",
            "cn\n",
            "af\n",
            "cn\n",
            "de\n",
            "fi\n",
            "de\n",
            "pk\n",
            "fr\n",
            "fr\n",
            "pk\n",
            "cn\n",
            "fr\n",
            "cn\n",
            "af\n",
            "fr\n",
            "af\n",
            "af\n",
            "ir\n",
            "fi\n",
            "de\n",
            "de\n",
            "in\n",
            "af\n",
            "de\n",
            "fi\n",
            "ir\n",
            "pk\n",
            "fr\n",
            "za\n",
            "af\n",
            "ir\n",
            "ir\n",
            "in\n",
            "pk\n",
            "af\n",
            "de\n",
            "ir\n",
            "cn\n",
            "za\n",
            "fr\n",
            "fi\n",
            "cn\n",
            "za\n",
            "cn\n",
            "fi\n",
            "ir\n",
            "cn\n",
            "ir\n",
            "in\n",
            "in\n",
            "af\n",
            "fi\n",
            "fi\n",
            "af\n",
            "fi\n",
            "ir\n",
            "fr\n",
            "af\n",
            "pk\n",
            "fi\n",
            "ir\n",
            "de\n",
            "ir\n",
            "in\n",
            "fi\n",
            "ir\n",
            "pk\n",
            "fr\n",
            "fi\n",
            "cn\n",
            "de\n",
            "fr\n",
            "af\n",
            "cn\n",
            "fr\n",
            "pk\n",
            "de\n",
            "fr\n",
            "de\n",
            "cn\n",
            "ir\n",
            "pk\n",
            "ir\n",
            "fi\n",
            "ir\n",
            "pk\n",
            "af\n",
            "de\n",
            "cn\n",
            "af\n",
            "fr\n",
            "fi\n",
            "fr\n",
            "fr\n",
            "in\n",
            "ir\n",
            "fr\n",
            "fr\n",
            "cn\n",
            "fr\n",
            "cn\n",
            "pk\n",
            "de\n",
            "cn\n",
            "de\n",
            "af\n",
            "fi\n",
            "ir\n",
            "in\n",
            "fi\n",
            "fi\n",
            "cn\n",
            "in\n",
            "in\n",
            "za\n",
            "fi\n",
            "de\n",
            "za\n",
            "za\n",
            "pk\n",
            "fr\n",
            "de\n",
            "fi\n",
            "fr\n",
            "af\n",
            "za\n",
            "ir\n",
            "ir\n",
            "pk\n",
            "de\n",
            "pk\n",
            "de\n",
            "af\n",
            "fr\n",
            "fi\n",
            "za\n",
            "ir\n",
            "fr\n",
            "in\n",
            "za\n",
            "de\n",
            "in\n",
            "za\n",
            "ir\n",
            "fi\n",
            "in\n",
            "af\n",
            "ir\n",
            "de\n",
            "in\n",
            "za\n",
            "in\n",
            "cn\n",
            "fi\n",
            "za\n",
            "pk\n",
            "af\n",
            "cn\n",
            "in\n",
            "fr\n",
            "in\n",
            "za\n",
            "fr\n",
            "af\n",
            "in\n",
            "ir\n",
            "af\n",
            "in\n",
            "za\n",
            "af\n",
            "pk\n",
            "pk\n",
            "af\n",
            "cn\n",
            "in\n",
            "fi\n",
            "pk\n",
            "cn\n",
            "fr\n",
            "pk\n",
            "cn\n",
            "fi\n",
            "za\n",
            "af\n",
            "in\n",
            "fr\n",
            "za\n",
            "cn\n",
            "za\n",
            "pk\n",
            "in\n",
            "za\n",
            "za\n",
            "de\n",
            "fr\n",
            "cn\n",
            "in\n",
            "ir\n",
            "za\n",
            "fr\n",
            "af\n",
            "cn\n",
            "af\n",
            "af\n",
            "ir\n",
            "in\n",
            "za\n",
            "pk\n",
            "za\n",
            "ir\n",
            "pk\n",
            "za\n",
            "fr\n",
            "fi\n",
            "af\n",
            "cn\n",
            "in\n",
            "ir\n",
            "de\n",
            "ir\n",
            "in\n",
            "pk\n",
            "pk\n",
            "pk\n",
            "za\n",
            "cn\n",
            "ir\n",
            "ir\n",
            "fr\n",
            "de\n",
            "fi\n",
            "cn\n",
            "fr\n",
            "fi\n"
          ],
          "name": "stdout"
        }
      ]
    },
    {
      "cell_type": "markdown",
      "metadata": {
        "id": "daz-9__k1MuK"
      },
      "source": [
        "## **Section 3.2: TODO write a report**\n",
        "\n",
        "Write a report that describes your model, settings of hyperparameters, the experiments that you ran, and an evaluation of the model's performance. We would like to know what you found works best and why you think it works best. Include a discussion of the testing that you did that convinced you that your results are correct, i.e. your code is suitably bug-free.\n",
        "\n",
        "You are expected to write an answer containing at least ten sentences of correct and relevant content.\n",
        "\n",
        "\n",
        "\n"
      ]
    },
    {
      "cell_type": "markdown",
      "metadata": {
        "id": "swDR8QsGXKSa"
      },
      "source": [
        "I tested 13 different classifiers: the first 11 used absolute discounting language models (AD LMs) with discounting parameters ranging from 0-1 (increments of .1), the 12th used AD LMs with a leave one out maximum likliehood estimate to obtain discount factors, and the 13th used off-the-shelf imported Kneser–Ney Smoothing language models. For each classifier, I trained 9 language models (one for each country). Then, to obtain a classification for a new city, I would find the perplexity for each model and select the country corresponding to the model with the lowest perplexity.\n",
        "\n",
        "\n",
        "Of the AD classifiers, the one with the best accuracy was the classifier with a discount rate of .8 which achieved an accuracy of 63.78%. This is fairly good when you consider (1) that there are 9 categories in the classification task and so a random guesser would only achieve 11.11% accuracy (2) the more sophisticated imported KN model achieved a 65.11% accuracy, an increase of only 1.23%. \n",
        "\n",
        "We can see from the graph which plots average accuracy agaiinst discount rate that the accuracy shoots up when the discount rate goes from 0 to 0.1 and then slowly increases until it peaks at .8. This means that solely using ngrams of size 3 does not provide a great signal and the ngrams of size 1 and 2 are very useful in the classification task.\n",
        "\n",
        "When looking at the confusion matrices from training, you'll notice that the biggest source of confusion was between cities in Iran and cities in Afghanistan. This makes sense because they physically border each other and so their city names likely have similar structure.\n",
        "\n",
        "Also, we see from our plot of average country accuracy that china is consistently the easiest to distinguish from the others with an average accuracy of 86.82% and Iran is the hardest to distinguish from the others with an average accuracy of 39.45%.\n",
        "\n",
        "I am confident that my code works and is bug free because I trained models on small sample languages and verified that the models accurately represented those languages. Also, my code provided very similar results as the off-the-shelf KN smoothing model. Finally, my many visualizations and print statements along the way allowed me to verify that everything was running smoothly. "
      ]
    }
  ]
}